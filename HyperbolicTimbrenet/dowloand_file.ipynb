{
 "cells": [
  {
   "attachments": {},
   "cell_type": "markdown",
   "metadata": {},
   "source": [
    "# Descargar"
   ]
  },
  {
   "attachments": {},
   "cell_type": "markdown",
   "metadata": {},
   "source": [
    "## Modelo baseline"
   ]
  },
  {
   "cell_type": "code",
   "execution_count": 3,
   "metadata": {},
   "outputs": [
    {
     "name": "stdout",
     "output_type": "stream",
     "text": [
      "--2022-12-10 19:16:02--  https://www.dropbox.com/s/x6n4c8k0eq9t68h/baseline_latent_2_lr_3e-05_b_1_the_best.index\n",
      "Resolving www.dropbox.com (www.dropbox.com)... 162.125.5.18\n",
      "Connecting to www.dropbox.com (www.dropbox.com)|162.125.5.18|:443... connected.\n",
      "HTTP request sent, awaiting response... 302 Found\n",
      "Location: /s/raw/x6n4c8k0eq9t68h/baseline_latent_2_lr_3e-05_b_1_the_best.index [following]\n",
      "--2022-12-10 19:16:03--  https://www.dropbox.com/s/raw/x6n4c8k0eq9t68h/baseline_latent_2_lr_3e-05_b_1_the_best.index\n",
      "Reusing existing connection to www.dropbox.com:443.\n",
      "HTTP request sent, awaiting response... 302 Found\n",
      "Location: https://uc67f27e1117e1a2311c65dc9935.dl.dropboxusercontent.com/cd/0/inline/ByanxCytvupkDVL47L6XgGu7OqoPmbfKM-6H7A3DcFVCfx_pCgskRf2NCrxFbHKZW-vH0nVOqtnSkn9ePjDv7k4Pv6a3g9o2kPEtUQQhfBp4LdAM7Pu4YbLQ56Dhus879CmhktDfwOsViZmZpVDBl_VMIpYA8rVU-BE6x4f-XJ_PKw/file# [following]\n",
      "--2022-12-10 19:16:03--  https://uc67f27e1117e1a2311c65dc9935.dl.dropboxusercontent.com/cd/0/inline/ByanxCytvupkDVL47L6XgGu7OqoPmbfKM-6H7A3DcFVCfx_pCgskRf2NCrxFbHKZW-vH0nVOqtnSkn9ePjDv7k4Pv6a3g9o2kPEtUQQhfBp4LdAM7Pu4YbLQ56Dhus879CmhktDfwOsViZmZpVDBl_VMIpYA8rVU-BE6x4f-XJ_PKw/file\n",
      "Resolving uc67f27e1117e1a2311c65dc9935.dl.dropboxusercontent.com (uc67f27e1117e1a2311c65dc9935.dl.dropboxusercontent.com)... 162.125.5.15\n",
      "Connecting to uc67f27e1117e1a2311c65dc9935.dl.dropboxusercontent.com (uc67f27e1117e1a2311c65dc9935.dl.dropboxusercontent.com)|162.125.5.15|:443... connected.\n",
      "HTTP request sent, awaiting response... 302 Found\n",
      "Location: /cd/0/inline2/ByY8Fv1nj1bJXe9ucVXjRfOUbuQ0Z_-w7T2zd5QhKPozWox-3K4OyoNfziVf1ODfsPrjxjUAiC0K0fBQZd58Ul5Uf4pRcXa2y3xxj4CmnaEPDBcg3HdTiCljEdxHI5LpcZ7hJsj-vIl2wXRmyEkvLsA4Q7G7HuV3louop-8Fr5tHc1GRNW0tYf7lvVCDVe6ec6iTVe9DtYpIIOdPVIykbBoLxufZ0w20AmbWSY4dG5P411tUMxpW2EfdFj-sIynjw-Gmoo30xBnNSClg8mXxRTAr-3cClkdFBZytHVt_O81SsxI_2n1gbZSb2eaSGO2RPwO83UrcFF9jJPc8hcHF8m-pnK34n5WIKI0AnYYpYOFv9Ky5f_DbswW1wkttqUNFg_bWok5Q-6qL0h2_huZrjhxa5FIUEKwoFvcOoZDx3B_GIw/file [following]\n",
      "--2022-12-10 19:16:04--  https://uc67f27e1117e1a2311c65dc9935.dl.dropboxusercontent.com/cd/0/inline2/ByY8Fv1nj1bJXe9ucVXjRfOUbuQ0Z_-w7T2zd5QhKPozWox-3K4OyoNfziVf1ODfsPrjxjUAiC0K0fBQZd58Ul5Uf4pRcXa2y3xxj4CmnaEPDBcg3HdTiCljEdxHI5LpcZ7hJsj-vIl2wXRmyEkvLsA4Q7G7HuV3louop-8Fr5tHc1GRNW0tYf7lvVCDVe6ec6iTVe9DtYpIIOdPVIykbBoLxufZ0w20AmbWSY4dG5P411tUMxpW2EfdFj-sIynjw-Gmoo30xBnNSClg8mXxRTAr-3cClkdFBZytHVt_O81SsxI_2n1gbZSb2eaSGO2RPwO83UrcFF9jJPc8hcHF8m-pnK34n5WIKI0AnYYpYOFv9Ky5f_DbswW1wkttqUNFg_bWok5Q-6qL0h2_huZrjhxa5FIUEKwoFvcOoZDx3B_GIw/file\n",
      "Reusing existing connection to uc67f27e1117e1a2311c65dc9935.dl.dropboxusercontent.com:443.\n",
      "HTTP request sent, awaiting response... 200 OK\n",
      "Length: 6112 (6.0K) [application/octet-stream]\n",
      "Saving to: ‘results/baseline/model_weights/baseline_latent_2_lr_3e-05_b_1_the_best.index’\n",
      "\n",
      "results/baseline/mo 100%[===================>]   5.97K  --.-KB/s    in 0s      \n",
      "\n",
      "2022-12-10 19:16:04 (1.14 GB/s) - ‘results/baseline/model_weights/baseline_latent_2_lr_3e-05_b_1_the_best.index’ saved [6112/6112]\n",
      "\n",
      "--2022-12-10 19:16:05--  https://www.dropbox.com/s/mgldawvoqv6tfmb/baseline_latent_2_lr_3e-05_b_1_the_best.data-00000-of-00001\n",
      "Resolving www.dropbox.com (www.dropbox.com)... 162.125.5.18\n",
      "Connecting to www.dropbox.com (www.dropbox.com)|162.125.5.18|:443... connected.\n",
      "HTTP request sent, awaiting response... 302 Found\n",
      "Location: /s/raw/mgldawvoqv6tfmb/baseline_latent_2_lr_3e-05_b_1_the_best.data-00000-of-00001 [following]\n",
      "--2022-12-10 19:16:05--  https://www.dropbox.com/s/raw/mgldawvoqv6tfmb/baseline_latent_2_lr_3e-05_b_1_the_best.data-00000-of-00001\n",
      "Reusing existing connection to www.dropbox.com:443.\n",
      "HTTP request sent, awaiting response... 302 Found\n",
      "Location: https://uc1eb4854a900efe53bb4357eafc.dl.dropboxusercontent.com/cd/0/inline/Byb7dHXgEoSbpEtfkK9WFQwZ1uJP66eQrxxMeoYrwEEI7hl-fenDhFKtiPmR0y8Ot2BJ0nrbnPEcmQsyNNSNKn0mOr7k8JCcMdtVboqV-MLSNWg_mRDNQcdhpGL5X2lC1Vqr90AXRcD7bsleGs6ReIpp31wYfIU5KQ-7NmvCYmTLgw/file# [following]\n",
      "--2022-12-10 19:16:06--  https://uc1eb4854a900efe53bb4357eafc.dl.dropboxusercontent.com/cd/0/inline/Byb7dHXgEoSbpEtfkK9WFQwZ1uJP66eQrxxMeoYrwEEI7hl-fenDhFKtiPmR0y8Ot2BJ0nrbnPEcmQsyNNSNKn0mOr7k8JCcMdtVboqV-MLSNWg_mRDNQcdhpGL5X2lC1Vqr90AXRcD7bsleGs6ReIpp31wYfIU5KQ-7NmvCYmTLgw/file\n",
      "Resolving uc1eb4854a900efe53bb4357eafc.dl.dropboxusercontent.com (uc1eb4854a900efe53bb4357eafc.dl.dropboxusercontent.com)... 162.125.5.15\n",
      "Connecting to uc1eb4854a900efe53bb4357eafc.dl.dropboxusercontent.com (uc1eb4854a900efe53bb4357eafc.dl.dropboxusercontent.com)|162.125.5.15|:443... connected.\n",
      "HTTP request sent, awaiting response... 302 Found\n",
      "Location: /cd/0/inline2/ByZD_A3wbXG6n_dVP_bFw-pjNORRcbD3Vb2pv6Ugss0OzVFFEZCkT0TAZOT5bxzcE63vtKWAuGfs4BF8qejtTzI8GzmSoRm9Edw3ln0OrF_vniin-qJIwUbz9vEtOzD75GMtMO8wqsa20aOysxUcZrvR22qGdHuLC88JddWPEEMPYdBLp-nABoeOsXOLp5aHP9jCs0EGIeYYmrqyNsBq8AUdOqrqys6lUZTfzvtCNus9oWA4EB8oDhcr-mWVDyWcvRuzLtY2GXE7hJC7QxnxEmbD-61-2cNwiJ3bJRrfgvzHspGAFxSjCec2HEzrE-V6GFkzw6JMS56cCW7jA5nXUxuGaMJ28jCOnGIeXXyhQHPqeLt2pSzkG09SgFah_kGewdeZN6OLwZMaDZcUq86Quoz8ZTCzL8PmwkITqLb4Iwuycw/file [following]\n",
      "--2022-12-10 19:16:07--  https://uc1eb4854a900efe53bb4357eafc.dl.dropboxusercontent.com/cd/0/inline2/ByZD_A3wbXG6n_dVP_bFw-pjNORRcbD3Vb2pv6Ugss0OzVFFEZCkT0TAZOT5bxzcE63vtKWAuGfs4BF8qejtTzI8GzmSoRm9Edw3ln0OrF_vniin-qJIwUbz9vEtOzD75GMtMO8wqsa20aOysxUcZrvR22qGdHuLC88JddWPEEMPYdBLp-nABoeOsXOLp5aHP9jCs0EGIeYYmrqyNsBq8AUdOqrqys6lUZTfzvtCNus9oWA4EB8oDhcr-mWVDyWcvRuzLtY2GXE7hJC7QxnxEmbD-61-2cNwiJ3bJRrfgvzHspGAFxSjCec2HEzrE-V6GFkzw6JMS56cCW7jA5nXUxuGaMJ28jCOnGIeXXyhQHPqeLt2pSzkG09SgFah_kGewdeZN6OLwZMaDZcUq86Quoz8ZTCzL8PmwkITqLb4Iwuycw/file\n",
      "Reusing existing connection to uc1eb4854a900efe53bb4357eafc.dl.dropboxusercontent.com:443.\n",
      "HTTP request sent, awaiting response... 200 OK\n",
      "Length: 68258188 (65M) [application/octet-stream]\n",
      "Saving to: ‘results/baseline/model_weights/baseline_latent_2_lr_3e-05_b_1_the_best.data-00000-of-00001’\n",
      "\n",
      "results/baseline/mo 100%[===================>]  65.10M  23.3MB/s    in 2.8s    \n",
      "\n",
      "2022-12-10 19:16:10 (23.3 MB/s) - ‘results/baseline/model_weights/baseline_latent_2_lr_3e-05_b_1_the_best.data-00000-of-00001’ saved [68258188/68258188]\n",
      "\n"
     ]
    }
   ],
   "source": [
    "!wget -O results/baseline/model_weights/baseline_latent_2_lr_3e-05_b_1_the_best.index https://www.dropbox.com/s/x6n4c8k0eq9t68h/baseline_latent_2_lr_3e-05_b_1_the_best.index\n",
    "!wget -O results/baseline/model_weights/baseline_latent_2_lr_3e-05_b_1_the_best.data-00000-of-00001 https://www.dropbox.com/s/mgldawvoqv6tfmb/baseline_latent_2_lr_3e-05_b_1_the_best.data-00000-of-00001"
   ]
  },
  {
   "attachments": {},
   "cell_type": "markdown",
   "metadata": {},
   "source": [
    "## Modelo baseline Hyperbolico"
   ]
  },
  {
   "cell_type": "code",
   "execution_count": 4,
   "metadata": {},
   "outputs": [
    {
     "name": "stdout",
     "output_type": "stream",
     "text": [
      "--2022-12-10 19:16:10--  https://www.dropbox.com/s/jncdm9b58uwqo93/baseline_hyperbolic_latent_2_lr_3e-05_b_1_the_best.index\n",
      "Resolving www.dropbox.com (www.dropbox.com)... 162.125.5.18\n",
      "Connecting to www.dropbox.com (www.dropbox.com)|162.125.5.18|:443... connected.\n",
      "HTTP request sent, awaiting response... 302 Found\n",
      "Location: /s/raw/jncdm9b58uwqo93/baseline_hyperbolic_latent_2_lr_3e-05_b_1_the_best.index [following]\n",
      "--2022-12-10 19:16:11--  https://www.dropbox.com/s/raw/jncdm9b58uwqo93/baseline_hyperbolic_latent_2_lr_3e-05_b_1_the_best.index\n",
      "Reusing existing connection to www.dropbox.com:443.\n",
      "HTTP request sent, awaiting response... 302 Found\n",
      "Location: https://uc6a88d246096bec8d18ac9c512b.dl.dropboxusercontent.com/cd/0/inline/BybzouzJG6guVN7i-fQiMNO-5K8oPGqZ6gvRC5oNvWTq1Uboh-XzaGH8n_COqv2jSuWmKJ1Otmlt52CdhKkLirb_9fq9d3SRxwwVpmFPBch37QKnjt1dtPV1jGEgJQaljvnq4hE81j0jGtBsI0-Zc-fdJTeBihCW2cYoQDBA78k6vw/file# [following]\n",
      "--2022-12-10 19:16:11--  https://uc6a88d246096bec8d18ac9c512b.dl.dropboxusercontent.com/cd/0/inline/BybzouzJG6guVN7i-fQiMNO-5K8oPGqZ6gvRC5oNvWTq1Uboh-XzaGH8n_COqv2jSuWmKJ1Otmlt52CdhKkLirb_9fq9d3SRxwwVpmFPBch37QKnjt1dtPV1jGEgJQaljvnq4hE81j0jGtBsI0-Zc-fdJTeBihCW2cYoQDBA78k6vw/file\n",
      "Resolving uc6a88d246096bec8d18ac9c512b.dl.dropboxusercontent.com (uc6a88d246096bec8d18ac9c512b.dl.dropboxusercontent.com)... 162.125.5.15\n",
      "Connecting to uc6a88d246096bec8d18ac9c512b.dl.dropboxusercontent.com (uc6a88d246096bec8d18ac9c512b.dl.dropboxusercontent.com)|162.125.5.15|:443... connected.\n",
      "HTTP request sent, awaiting response... 302 Found\n",
      "Location: /cd/0/inline2/ByaS2a4w7lr_stE1aCCS8BXIe6lykS0M4KI8xgePxVRbw7ovKsXkbdR1MvNZNDBqi3Dq_5rvAFK8FahnMGR6L38kZyVde6KAfVcWLb2KEfbwA7vC-gsEH-3-ZOAnIB73XzGmW5CSucq_S9D-uqII4tezuVgRKvroIp3wmeeEazt1KWOWStZ7gAfF5JUwXrrU4QeNHQTmYanvOjcpyO6BDqwDOdtlwSs_gJnUy-G0ia5Mwza9dvwv30zLBE2aWTkzLJc74fKngkedBIsnHPRYyP5GxUiJpnjCQ-lWcjS7ORzRpLdiwpWg3vzdi8YNNsfthQLwVyRCl0us5S_0-INFcF4Ws1ccrd9C3z_sV9X-REPNQWFAXxoLb6Zw5VN5fDlENeKmXkbW6NL9doehAZPP1SkhwILjbflbWVmh8SPCfxOXuQ/file [following]\n",
      "--2022-12-10 19:16:12--  https://uc6a88d246096bec8d18ac9c512b.dl.dropboxusercontent.com/cd/0/inline2/ByaS2a4w7lr_stE1aCCS8BXIe6lykS0M4KI8xgePxVRbw7ovKsXkbdR1MvNZNDBqi3Dq_5rvAFK8FahnMGR6L38kZyVde6KAfVcWLb2KEfbwA7vC-gsEH-3-ZOAnIB73XzGmW5CSucq_S9D-uqII4tezuVgRKvroIp3wmeeEazt1KWOWStZ7gAfF5JUwXrrU4QeNHQTmYanvOjcpyO6BDqwDOdtlwSs_gJnUy-G0ia5Mwza9dvwv30zLBE2aWTkzLJc74fKngkedBIsnHPRYyP5GxUiJpnjCQ-lWcjS7ORzRpLdiwpWg3vzdi8YNNsfthQLwVyRCl0us5S_0-INFcF4Ws1ccrd9C3z_sV9X-REPNQWFAXxoLb6Zw5VN5fDlENeKmXkbW6NL9doehAZPP1SkhwILjbflbWVmh8SPCfxOXuQ/file\n",
      "Reusing existing connection to uc6a88d246096bec8d18ac9c512b.dl.dropboxusercontent.com:443.\n",
      "HTTP request sent, awaiting response... 200 OK\n",
      "Length: 6340 (6.2K) [application/octet-stream]\n",
      "Saving to: ‘results/baseline_hyp/model_weights/baseline_hyperbolic_latent_2_lr_3e-05_b_1_the_best.index’\n",
      "\n",
      "results/baseline_hy 100%[===================>]   6.19K  --.-KB/s    in 0s      \n",
      "\n",
      "2022-12-10 19:16:12 (2.95 GB/s) - ‘results/baseline_hyp/model_weights/baseline_hyperbolic_latent_2_lr_3e-05_b_1_the_best.index’ saved [6340/6340]\n",
      "\n",
      "--2022-12-10 19:16:13--  https://www.dropbox.com/s/yjg1l77ymndkwpg/baseline_hyperbolic_latent_2_lr_3e-05_b_1_the_best.data-00000-of-00001\n",
      "Resolving www.dropbox.com (www.dropbox.com)... 162.125.5.18\n",
      "Connecting to www.dropbox.com (www.dropbox.com)|162.125.5.18|:443... connected.\n",
      "HTTP request sent, awaiting response... 302 Found\n",
      "Location: /s/raw/yjg1l77ymndkwpg/baseline_hyperbolic_latent_2_lr_3e-05_b_1_the_best.data-00000-of-00001 [following]\n",
      "--2022-12-10 19:16:13--  https://www.dropbox.com/s/raw/yjg1l77ymndkwpg/baseline_hyperbolic_latent_2_lr_3e-05_b_1_the_best.data-00000-of-00001\n",
      "Reusing existing connection to www.dropbox.com:443.\n",
      "HTTP request sent, awaiting response... 302 Found\n",
      "Location: https://ucf270bdacb41cf9d61d6e88342e.dl.dropboxusercontent.com/cd/0/inline/ByYicjECZ6R2sIaHhjRBqCxXyxxjBUO9xTvFrZQiyvYYVypfU9qmKj6Y7ppTFkZbFJLbGE1YMUosVvqT1ZA2KdaAbZgZKCn7Hb-fQnW2XiQ4njKC1LZaIwZvJKkO7KSa7oVVlfjyMpirGrrt33R1O0rhDF1qBtD8RCbnF4DIOuToLw/file# [following]\n",
      "--2022-12-10 19:16:14--  https://ucf270bdacb41cf9d61d6e88342e.dl.dropboxusercontent.com/cd/0/inline/ByYicjECZ6R2sIaHhjRBqCxXyxxjBUO9xTvFrZQiyvYYVypfU9qmKj6Y7ppTFkZbFJLbGE1YMUosVvqT1ZA2KdaAbZgZKCn7Hb-fQnW2XiQ4njKC1LZaIwZvJKkO7KSa7oVVlfjyMpirGrrt33R1O0rhDF1qBtD8RCbnF4DIOuToLw/file\n",
      "Resolving ucf270bdacb41cf9d61d6e88342e.dl.dropboxusercontent.com (ucf270bdacb41cf9d61d6e88342e.dl.dropboxusercontent.com)... 162.125.5.15\n",
      "Connecting to ucf270bdacb41cf9d61d6e88342e.dl.dropboxusercontent.com (ucf270bdacb41cf9d61d6e88342e.dl.dropboxusercontent.com)|162.125.5.15|:443... connected.\n",
      "HTTP request sent, awaiting response... 302 Found\n",
      "Location: /cd/0/inline2/ByZgsQHS3uS8weF2yyz1Vu50n5Xyj0EL9vPNkpFE0BQDx1CO3UNi9cpkPavfYxC7yUZ4TjMMcLdX8EKp58r0lbcB7wrQPveqjc59Jv8XnqX8Y3kDIBSrNO3clln-PZDXq6qzms7pdxPLjtIYKKYbUIO9SN4bJV27Vt-DEBy_WsUWY2PetjAYgWvNLVzyXWPEaUfbcmWUNYBgHi8ctPP2WXnSAb8IhtI5kO0gND7TLbdOEXne1hCpF8Jm5wGOhqKYA9qCmzGIavFV5TCIDk1D7Zg7cr5oB1OZIdzbSrlemHDXRGl7LgnvMU2Xg1N1rhwsztmJ4ObI4_osQxxSrPFQevZzxeRgJuOrOBL0V0qA0rsJOnnRowOEgv9yJmn2YZD0L_OF34-L86IE4JmIqgIy9bScPIRMRdhfkHBxS3hMGBTmhw/file [following]\n",
      "--2022-12-10 19:16:16--  https://ucf270bdacb41cf9d61d6e88342e.dl.dropboxusercontent.com/cd/0/inline2/ByZgsQHS3uS8weF2yyz1Vu50n5Xyj0EL9vPNkpFE0BQDx1CO3UNi9cpkPavfYxC7yUZ4TjMMcLdX8EKp58r0lbcB7wrQPveqjc59Jv8XnqX8Y3kDIBSrNO3clln-PZDXq6qzms7pdxPLjtIYKKYbUIO9SN4bJV27Vt-DEBy_WsUWY2PetjAYgWvNLVzyXWPEaUfbcmWUNYBgHi8ctPP2WXnSAb8IhtI5kO0gND7TLbdOEXne1hCpF8Jm5wGOhqKYA9qCmzGIavFV5TCIDk1D7Zg7cr5oB1OZIdzbSrlemHDXRGl7LgnvMU2Xg1N1rhwsztmJ4ObI4_osQxxSrPFQevZzxeRgJuOrOBL0V0qA0rsJOnnRowOEgv9yJmn2YZD0L_OF34-L86IE4JmIqgIy9bScPIRMRdhfkHBxS3hMGBTmhw/file\n",
      "Reusing existing connection to ucf270bdacb41cf9d61d6e88342e.dl.dropboxusercontent.com:443.\n",
      "HTTP request sent, awaiting response... 200 OK\n",
      "Length: 68267024 (65M) [application/octet-stream]\n",
      "Saving to: ‘results/baseline_hyp/model_weights/baseline_hyperbolic_latent_2_lr_3e-05_b_1_the_best.data-00000-of-00001’\n",
      "\n",
      "results/baseline_hy 100%[===================>]  65.10M  23.3MB/s    in 2.8s    \n",
      "\n",
      "2022-12-10 19:16:20 (23.3 MB/s) - ‘results/baseline_hyp/model_weights/baseline_hyperbolic_latent_2_lr_3e-05_b_1_the_best.data-00000-of-00001’ saved [68267024/68267024]\n",
      "\n"
     ]
    }
   ],
   "source": [
    "\n",
    "\n",
    "!wget -O results/baseline_hyp/model_weights/baseline_hyperbolic_latent_2_lr_3e-05_b_1_the_best.index https://www.dropbox.com/s/jncdm9b58uwqo93/baseline_hyperbolic_latent_2_lr_3e-05_b_1_the_best.index\n",
    "!wget -O results/baseline_hyp/model_weights/baseline_hyperbolic_latent_2_lr_3e-05_b_1_the_best.data-00000-of-00001 https://www.dropbox.com/s/yjg1l77ymndkwpg/baseline_hyperbolic_latent_2_lr_3e-05_b_1_the_best.data-00000-of-00001\n"
   ]
  },
  {
   "attachments": {},
   "cell_type": "markdown",
   "metadata": {},
   "source": [
    "##  Breguel model\n"
   ]
  },
  {
   "cell_type": "code",
   "execution_count": 5,
   "metadata": {},
   "outputs": [
    {
     "name": "stdout",
     "output_type": "stream",
     "text": [
      "--2022-12-10 19:16:20--  https://www.dropbox.com/s/vdxggzjyl76niiv/breguel_model_latent_2_lr_3e-05_b_1_the_best.index\n",
      "Resolving www.dropbox.com (www.dropbox.com)... 162.125.5.18\n",
      "Connecting to www.dropbox.com (www.dropbox.com)|162.125.5.18|:443... connected.\n",
      "HTTP request sent, awaiting response... 302 Found\n",
      "Location: /s/raw/vdxggzjyl76niiv/breguel_model_latent_2_lr_3e-05_b_1_the_best.index [following]\n",
      "--2022-12-10 19:16:21--  https://www.dropbox.com/s/raw/vdxggzjyl76niiv/breguel_model_latent_2_lr_3e-05_b_1_the_best.index\n",
      "Reusing existing connection to www.dropbox.com:443.\n",
      "HTTP request sent, awaiting response... 302 Found\n",
      "Location: https://uc25976c784749011a7cb9a39adb.dl.dropboxusercontent.com/cd/0/inline/ByaZ2qPGaC9y1eo279sUbZGsLUxpoDRMWZSBMuv2ICppRnQ0UmqiQjyh4fuEbOrAoz_odAi2bjHj7fcHBIYbAkDS70VuXmPuexNL99cB_XMDwY2Q1WpDPfmAwo_Fjr6IgvotMzxWzISDDp3OveOSxSta-lC4wJ9vPPD-53jW7LT4qQ/file# [following]\n",
      "--2022-12-10 19:16:21--  https://uc25976c784749011a7cb9a39adb.dl.dropboxusercontent.com/cd/0/inline/ByaZ2qPGaC9y1eo279sUbZGsLUxpoDRMWZSBMuv2ICppRnQ0UmqiQjyh4fuEbOrAoz_odAi2bjHj7fcHBIYbAkDS70VuXmPuexNL99cB_XMDwY2Q1WpDPfmAwo_Fjr6IgvotMzxWzISDDp3OveOSxSta-lC4wJ9vPPD-53jW7LT4qQ/file\n",
      "Resolving uc25976c784749011a7cb9a39adb.dl.dropboxusercontent.com (uc25976c784749011a7cb9a39adb.dl.dropboxusercontent.com)... 162.125.5.15\n",
      "Connecting to uc25976c784749011a7cb9a39adb.dl.dropboxusercontent.com (uc25976c784749011a7cb9a39adb.dl.dropboxusercontent.com)|162.125.5.15|:443... connected.\n",
      "HTTP request sent, awaiting response... 302 Found\n",
      "Location: /cd/0/inline2/BybPjonfkdQXDL0HXIqo6OFKc3fLCN0STKZJax7VTa4QMxSbpgVjzDFOWoxgD7IAgwKaesDRBkFhc1TjTIxI3_Lu6-Pm2KbdYa-FaR54_zcl_RcUnq_gxfZCCchkLYXfCbL-tGxX99DmuJnqZmckkrNH_hMmTVIh3xhtusonVEWMQu5n46ELjMABv7g93APC8q1WmZbf_pvQXpXdh4ebjNncRmz_CWSAGItsSAwIBkSj_yNF180ovfAi_vDjBWOaCBPb1wiztrtO4wdI5H28qp4plsY5D0zQywRqv1Fk3ZBlH5mrIFEvxT9YOM-Wadf81aAumwSMgv871L9qOgUtQJLPLv7aMpU-wAa5wbIbNkvhbAbkeeENDsz5MLnN5poC8gSvzsll9oKiZGO-j0YpaZnLoJdZH7gGhm2HIHKv1bK8SQ/file [following]\n",
      "--2022-12-10 19:16:22--  https://uc25976c784749011a7cb9a39adb.dl.dropboxusercontent.com/cd/0/inline2/BybPjonfkdQXDL0HXIqo6OFKc3fLCN0STKZJax7VTa4QMxSbpgVjzDFOWoxgD7IAgwKaesDRBkFhc1TjTIxI3_Lu6-Pm2KbdYa-FaR54_zcl_RcUnq_gxfZCCchkLYXfCbL-tGxX99DmuJnqZmckkrNH_hMmTVIh3xhtusonVEWMQu5n46ELjMABv7g93APC8q1WmZbf_pvQXpXdh4ebjNncRmz_CWSAGItsSAwIBkSj_yNF180ovfAi_vDjBWOaCBPb1wiztrtO4wdI5H28qp4plsY5D0zQywRqv1Fk3ZBlH5mrIFEvxT9YOM-Wadf81aAumwSMgv871L9qOgUtQJLPLv7aMpU-wAa5wbIbNkvhbAbkeeENDsz5MLnN5poC8gSvzsll9oKiZGO-j0YpaZnLoJdZH7gGhm2HIHKv1bK8SQ/file\n",
      "Reusing existing connection to uc25976c784749011a7cb9a39adb.dl.dropboxusercontent.com:443.\n",
      "HTTP request sent, awaiting response... 200 OK\n",
      "Length: 6503 (6.4K) [application/octet-stream]\n",
      "Saving to: ‘results/breguel_model/model_weights/breguel_model_latent_2_lr_3e-05_b_1_the_best.index’\n",
      "\n",
      "results/breguel_mod 100%[===================>]   6.35K  --.-KB/s    in 0s      \n",
      "\n",
      "2022-12-10 19:16:22 (3.03 GB/s) - ‘results/breguel_model/model_weights/breguel_model_latent_2_lr_3e-05_b_1_the_best.index’ saved [6503/6503]\n",
      "\n",
      "--2022-12-10 19:16:22--  https://www.dropbox.com/s/wpnumej64mc290d/breguel_model_latent_2_lr_3e-05_b_1_the_best.data-00000-of-00001\n",
      "Resolving www.dropbox.com (www.dropbox.com)... 162.125.5.18\n",
      "Connecting to www.dropbox.com (www.dropbox.com)|162.125.5.18|:443... connected.\n",
      "HTTP request sent, awaiting response... 302 Found\n",
      "Location: /s/raw/wpnumej64mc290d/breguel_model_latent_2_lr_3e-05_b_1_the_best.data-00000-of-00001 [following]\n",
      "--2022-12-10 19:16:23--  https://www.dropbox.com/s/raw/wpnumej64mc290d/breguel_model_latent_2_lr_3e-05_b_1_the_best.data-00000-of-00001\n",
      "Reusing existing connection to www.dropbox.com:443.\n",
      "HTTP request sent, awaiting response... 302 Found\n",
      "Location: https://ucbfe78f2192febc87921efc73a9.dl.dropboxusercontent.com/cd/0/inline/Byb06kiLbok38pUgX782XpBD3f88Lb5jsNhGnQG5fu-XrtGJt68msduikMK5Yqh-0sEdhJEjY5OjnO5Qydtdo5cvr_WCDjy3mdAhxiyoBPKp51pWFX9UyyEWux_kmOqIfWgK1DtrNj5Ds1E58nSX3XpQBosHGnjizlmFiCQOWlVVJw/file# [following]\n",
      "--2022-12-10 19:16:24--  https://ucbfe78f2192febc87921efc73a9.dl.dropboxusercontent.com/cd/0/inline/Byb06kiLbok38pUgX782XpBD3f88Lb5jsNhGnQG5fu-XrtGJt68msduikMK5Yqh-0sEdhJEjY5OjnO5Qydtdo5cvr_WCDjy3mdAhxiyoBPKp51pWFX9UyyEWux_kmOqIfWgK1DtrNj5Ds1E58nSX3XpQBosHGnjizlmFiCQOWlVVJw/file\n",
      "Resolving ucbfe78f2192febc87921efc73a9.dl.dropboxusercontent.com (ucbfe78f2192febc87921efc73a9.dl.dropboxusercontent.com)... 162.125.5.15\n",
      "Connecting to ucbfe78f2192febc87921efc73a9.dl.dropboxusercontent.com (ucbfe78f2192febc87921efc73a9.dl.dropboxusercontent.com)|162.125.5.15|:443... connected.\n",
      "HTTP request sent, awaiting response... 302 Found\n",
      "Location: /cd/0/inline2/ByYOwnntfno4OK_n2I7LkCPJ5uExJLOHLP6xdJnsMvPxtrEhCdzOE0Ms-HaaROjnTBa_Q7MykFFssg8-cwJImggX9-C5BY8o5Ypp3ukzfnGinmQCDZ08x4A5XmN2UXyqiGqZyd350GOaeXjLo0w8d0ulILpP39ImJRY-hA76y-pzP7OPNwrQIKyGAZ8xlOWGGvQ-NoKqQrXuAkQP5-9GGZmLfuYPFSf7sg1Guse5ke2IhlWbsEn4Pw85HcnxeTe_8KU0f9MQoXp1otNdPpFNOkzz6HYFwJ95L_ZuTAbvR4KRRuMkON5a9QU3NJF1Q71CnpCbQgecLOeG7tvx1W4Q_wYiaiubTdNI9vGSE9yPI_wBc8S7vHQi7QJ9kaYwJ0XITGzVnhGS45DUtaP3jHvCbF54-3JcdcvSMcsK8qDKP1Du9A/file [following]\n",
      "--2022-12-10 19:16:25--  https://ucbfe78f2192febc87921efc73a9.dl.dropboxusercontent.com/cd/0/inline2/ByYOwnntfno4OK_n2I7LkCPJ5uExJLOHLP6xdJnsMvPxtrEhCdzOE0Ms-HaaROjnTBa_Q7MykFFssg8-cwJImggX9-C5BY8o5Ypp3ukzfnGinmQCDZ08x4A5XmN2UXyqiGqZyd350GOaeXjLo0w8d0ulILpP39ImJRY-hA76y-pzP7OPNwrQIKyGAZ8xlOWGGvQ-NoKqQrXuAkQP5-9GGZmLfuYPFSf7sg1Guse5ke2IhlWbsEn4Pw85HcnxeTe_8KU0f9MQoXp1otNdPpFNOkzz6HYFwJ95L_ZuTAbvR4KRRuMkON5a9QU3NJF1Q71CnpCbQgecLOeG7tvx1W4Q_wYiaiubTdNI9vGSE9yPI_wBc8S7vHQi7QJ9kaYwJ0XITGzVnhGS45DUtaP3jHvCbF54-3JcdcvSMcsK8qDKP1Du9A/file\n",
      "Reusing existing connection to ucbfe78f2192febc87921efc73a9.dl.dropboxusercontent.com:443.\n",
      "HTTP request sent, awaiting response... 200 OK\n",
      "Length: 120960452 (115M) [application/octet-stream]\n",
      "Saving to: ‘results/breguel_model/model_weights/breguel_model_latent_2_lr_3e-05_b_1_the_best.data-00000-of-00001’\n",
      "\n",
      "results/breguel_mod 100%[===================>] 115.36M  30.0MB/s    in 4.5s    \n",
      "\n",
      "2022-12-10 19:16:30 (25.5 MB/s) - ‘results/breguel_model/model_weights/breguel_model_latent_2_lr_3e-05_b_1_the_best.data-00000-of-00001’ saved [120960452/120960452]\n",
      "\n"
     ]
    }
   ],
   "source": [
    "!wget -O results/breguel_model/model_weights/breguel_model_latent_2_lr_3e-05_b_1_the_best.index https://www.dropbox.com/s/vdxggzjyl76niiv/breguel_model_latent_2_lr_3e-05_b_1_the_best.index\n",
    "!wget -O results/breguel_model/model_weights/breguel_model_latent_2_lr_3e-05_b_1_the_best.data-00000-of-00001 https://www.dropbox.com/s/wpnumej64mc290d/breguel_model_latent_2_lr_3e-05_b_1_the_best.data-00000-of-00001"
   ]
  },
  {
   "attachments": {},
   "cell_type": "markdown",
   "metadata": {},
   "source": [
    "## Mircea model"
   ]
  },
  {
   "cell_type": "code",
   "execution_count": 6,
   "metadata": {},
   "outputs": [
    {
     "name": "stdout",
     "output_type": "stream",
     "text": [
      "--2022-12-10 19:16:30--  https://www.dropbox.com/s/83fuwtawrcc3br6/mircea_model_latent_2_lr_3e-05_b_1_the_best.index\n",
      "Resolving www.dropbox.com (www.dropbox.com)... 162.125.5.18\n",
      "Connecting to www.dropbox.com (www.dropbox.com)|162.125.5.18|:443... connected.\n",
      "HTTP request sent, awaiting response... 302 Found\n",
      "Location: /s/raw/83fuwtawrcc3br6/mircea_model_latent_2_lr_3e-05_b_1_the_best.index [following]\n",
      "--2022-12-10 19:16:31--  https://www.dropbox.com/s/raw/83fuwtawrcc3br6/mircea_model_latent_2_lr_3e-05_b_1_the_best.index\n",
      "Reusing existing connection to www.dropbox.com:443.\n",
      "HTTP request sent, awaiting response... 302 Found\n",
      "Location: https://uc4f79e4569adac4490852a4e6fd.dl.dropboxusercontent.com/cd/0/inline/ByYwC0aENPNfYZHG1DVxLbkNkuyRiDlH2Shw2eimwg5zhVUSWtnU_kE6sXGOMf7AbvWJJpXRRUNQSW1rHVkjogwCg98n366vpibgGS4WYxXyJVF_utCNavagTYUMp3kxhOthH65-IEs2vDKhHcHRRU8IAaw07slhC_tsRLrtNDL1Gg/file# [following]\n",
      "--2022-12-10 19:16:31--  https://uc4f79e4569adac4490852a4e6fd.dl.dropboxusercontent.com/cd/0/inline/ByYwC0aENPNfYZHG1DVxLbkNkuyRiDlH2Shw2eimwg5zhVUSWtnU_kE6sXGOMf7AbvWJJpXRRUNQSW1rHVkjogwCg98n366vpibgGS4WYxXyJVF_utCNavagTYUMp3kxhOthH65-IEs2vDKhHcHRRU8IAaw07slhC_tsRLrtNDL1Gg/file\n",
      "Resolving uc4f79e4569adac4490852a4e6fd.dl.dropboxusercontent.com (uc4f79e4569adac4490852a4e6fd.dl.dropboxusercontent.com)... 162.125.5.15\n",
      "Connecting to uc4f79e4569adac4490852a4e6fd.dl.dropboxusercontent.com (uc4f79e4569adac4490852a4e6fd.dl.dropboxusercontent.com)|162.125.5.15|:443... connected.\n",
      "HTTP request sent, awaiting response... 302 Found\n",
      "Location: /cd/0/inline2/ByYD6ArWj30yDYIGCbNoJ-MQaOC9ADSvoRb4izbQn7sSZYdAPojVgRpHSgYTxasQ79zHQM2sTmorezZOdC3qBI1F-cYGTeauHSPnO93CEWOAxqCWFtiFeJdpRQ-ItLqo0eZFggh_vNp_dHYGn6fVhhla7grDz94W9MvWtIiQ0d5ZwIkt0clC1HNVyLXAkTTIyQ_nlXKnoKvOvGKwoHqK4KF0jfanmTymwDfgeb9d_bdQU_s6gWa4o9YppO-cIc0nraqWz3WxecOulot6nA8jJGdvQoDvp9wutsgNDjCERJQFndsLKe7okpygU0kDHIwc9DBkFvXFzxQIQ862k2H7wDRGCfOHDaRp-HhDes1JousZReEPeHzl80TdSqu-XSw9ALkhDQ5vWoDCaq303-iaD68GNrjmZ27IKoitFUiJL18rKg/file [following]\n",
      "--2022-12-10 19:16:32--  https://uc4f79e4569adac4490852a4e6fd.dl.dropboxusercontent.com/cd/0/inline2/ByYD6ArWj30yDYIGCbNoJ-MQaOC9ADSvoRb4izbQn7sSZYdAPojVgRpHSgYTxasQ79zHQM2sTmorezZOdC3qBI1F-cYGTeauHSPnO93CEWOAxqCWFtiFeJdpRQ-ItLqo0eZFggh_vNp_dHYGn6fVhhla7grDz94W9MvWtIiQ0d5ZwIkt0clC1HNVyLXAkTTIyQ_nlXKnoKvOvGKwoHqK4KF0jfanmTymwDfgeb9d_bdQU_s6gWa4o9YppO-cIc0nraqWz3WxecOulot6nA8jJGdvQoDvp9wutsgNDjCERJQFndsLKe7okpygU0kDHIwc9DBkFvXFzxQIQ862k2H7wDRGCfOHDaRp-HhDes1JousZReEPeHzl80TdSqu-XSw9ALkhDQ5vWoDCaq303-iaD68GNrjmZ27IKoitFUiJL18rKg/file\n",
      "Reusing existing connection to uc4f79e4569adac4490852a4e6fd.dl.dropboxusercontent.com:443.\n",
      "HTTP request sent, awaiting response... 200 OK\n",
      "Length: 6195 (6.0K) [application/octet-stream]\n",
      "Saving to: ‘results/mircea_model/model_weights/mircea_model_latent_2_lr_3e-05_b_1_the_best.index’\n",
      "\n",
      "results/mircea_mode 100%[===================>]   6.05K  --.-KB/s    in 0s      \n",
      "\n",
      "2022-12-10 19:16:33 (5.77 GB/s) - ‘results/mircea_model/model_weights/mircea_model_latent_2_lr_3e-05_b_1_the_best.index’ saved [6195/6195]\n",
      "\n",
      "--2022-12-10 19:16:33--  https://www.dropbox.com/s/p2kaizm4pwyqkr6/mircea_model_latent_2_lr_3e-05_b_1_the_best.data-00000-of-00001\n",
      "Resolving www.dropbox.com (www.dropbox.com)... 162.125.5.18\n",
      "Connecting to www.dropbox.com (www.dropbox.com)|162.125.5.18|:443... connected.\n",
      "HTTP request sent, awaiting response... 302 Found\n",
      "Location: /s/raw/p2kaizm4pwyqkr6/mircea_model_latent_2_lr_3e-05_b_1_the_best.data-00000-of-00001 [following]\n",
      "--2022-12-10 19:16:33--  https://www.dropbox.com/s/raw/p2kaizm4pwyqkr6/mircea_model_latent_2_lr_3e-05_b_1_the_best.data-00000-of-00001\n",
      "Reusing existing connection to www.dropbox.com:443.\n",
      "HTTP request sent, awaiting response... 302 Found\n",
      "Location: https://uca2cc3f2f587389406d2d6f7904.dl.dropboxusercontent.com/cd/0/inline/ByYDzO3WEfX9oFke1vPFM56sZQb_L_2gHu7k5c09aPITdh35UgTfUzUoP6VAQ535Oleivzd_QR-gm-E3F4Q1VoVG7vCeqPc6tRuXirpk57rzwoh0RS-NwFYDxglWHRy9f7ZWsIlygHSvl7GqXZ78DxAKAOryeUz8IbTVzwB6jOg2Pw/file# [following]\n",
      "--2022-12-10 19:16:34--  https://uca2cc3f2f587389406d2d6f7904.dl.dropboxusercontent.com/cd/0/inline/ByYDzO3WEfX9oFke1vPFM56sZQb_L_2gHu7k5c09aPITdh35UgTfUzUoP6VAQ535Oleivzd_QR-gm-E3F4Q1VoVG7vCeqPc6tRuXirpk57rzwoh0RS-NwFYDxglWHRy9f7ZWsIlygHSvl7GqXZ78DxAKAOryeUz8IbTVzwB6jOg2Pw/file\n",
      "Resolving uca2cc3f2f587389406d2d6f7904.dl.dropboxusercontent.com (uca2cc3f2f587389406d2d6f7904.dl.dropboxusercontent.com)... 162.125.5.15\n",
      "Connecting to uca2cc3f2f587389406d2d6f7904.dl.dropboxusercontent.com (uca2cc3f2f587389406d2d6f7904.dl.dropboxusercontent.com)|162.125.5.15|:443... connected.\n",
      "HTTP request sent, awaiting response... 302 Found\n",
      "Location: /cd/0/inline2/Bybg9f_GnTTWVOpN3qvBhMMj6xULkYp1wsJYEhPUPVZs4lWO8tOhwxCWsdZhzS4xH9-qVrRjaWcvXHjQN5rH6v2YCOzyZGoeFe395IGAx0I2qJnEHl0xS2o1P7_2Xy3ra5ndeDms2oE_jx6vEJ3xaXDLrocJZ9vSBDlCkmqAQdeF9aILEv6c6uAtRIDt7UF3XIKwlspk83w6qN3op3YQyiAf1vm9goKi7SdaJR37yyOroOcZNyJL-Kx67RXmoezJ4L4LvBBHIuk4Iz1MEnuWYy0vQXi8NirzofNcLc169Dubf_C5EZWqoGRuggmxxc9df5nks2w9Lf-gj0hIf_dXoffQo1mOyBassCbM-3cWOm4437n-VFXUYLcY9Vq_sQw-t3-gbx3h3EBKFQgmgIJa2FYZwh5ct9unYQ7ktiuqWLTGaw/file [following]\n",
      "--2022-12-10 19:16:35--  https://uca2cc3f2f587389406d2d6f7904.dl.dropboxusercontent.com/cd/0/inline2/Bybg9f_GnTTWVOpN3qvBhMMj6xULkYp1wsJYEhPUPVZs4lWO8tOhwxCWsdZhzS4xH9-qVrRjaWcvXHjQN5rH6v2YCOzyZGoeFe395IGAx0I2qJnEHl0xS2o1P7_2Xy3ra5ndeDms2oE_jx6vEJ3xaXDLrocJZ9vSBDlCkmqAQdeF9aILEv6c6uAtRIDt7UF3XIKwlspk83w6qN3op3YQyiAf1vm9goKi7SdaJR37yyOroOcZNyJL-Kx67RXmoezJ4L4LvBBHIuk4Iz1MEnuWYy0vQXi8NirzofNcLc169Dubf_C5EZWqoGRuggmxxc9df5nks2w9Lf-gj0hIf_dXoffQo1mOyBassCbM-3cWOm4437n-VFXUYLcY9Vq_sQw-t3-gbx3h3EBKFQgmgIJa2FYZwh5ct9unYQ7ktiuqWLTGaw/file\n",
      "Reusing existing connection to uca2cc3f2f587389406d2d6f7904.dl.dropboxusercontent.com:443.\n",
      "HTTP request sent, awaiting response... 200 OK\n",
      "Length: 10497223 (10M) [application/octet-stream]\n",
      "Saving to: ‘results/mircea_model/model_weights/mircea_model_latent_2_lr_3e-05_b_1_the_best.data-00000-of-00001’\n",
      "\n",
      "results/mircea_mode 100%[===================>]  10.01M  9.55MB/s    in 1.0s    \n",
      "\n",
      "2022-12-10 19:16:36 (9.55 MB/s) - ‘results/mircea_model/model_weights/mircea_model_latent_2_lr_3e-05_b_1_the_best.data-00000-of-00001’ saved [10497223/10497223]\n",
      "\n"
     ]
    }
   ],
   "source": [
    "!wget -O results/mircea_model/model_weights/mircea_model_latent_2_lr_3e-05_b_1_the_best.index https://www.dropbox.com/s/83fuwtawrcc3br6/mircea_model_latent_2_lr_3e-05_b_1_the_best.index\n",
    "!wget -O results/mircea_model/model_weights/mircea_model_latent_2_lr_3e-05_b_1_the_best.data-00000-of-00001 https://www.dropbox.com/s/p2kaizm4pwyqkr6/mircea_model_latent_2_lr_3e-05_b_1_the_best.data-00000-of-00001"
   ]
  },
  {
   "attachments": {},
   "cell_type": "markdown",
   "metadata": {},
   "source": [
    "## timbreNet + Embedding hyperbolico"
   ]
  },
  {
   "cell_type": "code",
   "execution_count": 7,
   "metadata": {},
   "outputs": [
    {
     "name": "stdout",
     "output_type": "stream",
     "text": [
      "--2022-12-10 19:16:37--  https://www.dropbox.com/s/3gg0h57boq5uhf9/Hyp%2BCNN_latent_2_lr_3e-05_b_1_the_best.index\n",
      "Resolving www.dropbox.com (www.dropbox.com)... 162.125.5.18\n",
      "Connecting to www.dropbox.com (www.dropbox.com)|162.125.5.18|:443... connected.\n",
      "HTTP request sent, awaiting response... 302 Found\n",
      "Location: /s/raw/3gg0h57boq5uhf9/Hyp%2BCNN_latent_2_lr_3e-05_b_1_the_best.index [following]\n",
      "--2022-12-10 19:16:38--  https://www.dropbox.com/s/raw/3gg0h57boq5uhf9/Hyp%2BCNN_latent_2_lr_3e-05_b_1_the_best.index\n",
      "Reusing existing connection to www.dropbox.com:443.\n",
      "HTTP request sent, awaiting response... 302 Found\n",
      "Location: https://uc372bac4302c7f300c7fbe8760a.dl.dropboxusercontent.com/cd/0/inline/ByaG2xwwZR-b1mKl922y8J6sbYF4a1-8hcgBoolv1zN1olbQihoAdcyS--sccK_hc9UP01ktO7XMkeIHoLjl8CalX__4MvZnP0_HUE6ftkMwAY8JZ39-pO_f6FxStZw8HpV7wpFs5enNb0IRm3Vf0t8vx83riBEktK1tN-PmTCz8fQ/file# [following]\n",
      "--2022-12-10 19:16:38--  https://uc372bac4302c7f300c7fbe8760a.dl.dropboxusercontent.com/cd/0/inline/ByaG2xwwZR-b1mKl922y8J6sbYF4a1-8hcgBoolv1zN1olbQihoAdcyS--sccK_hc9UP01ktO7XMkeIHoLjl8CalX__4MvZnP0_HUE6ftkMwAY8JZ39-pO_f6FxStZw8HpV7wpFs5enNb0IRm3Vf0t8vx83riBEktK1tN-PmTCz8fQ/file\n",
      "Resolving uc372bac4302c7f300c7fbe8760a.dl.dropboxusercontent.com (uc372bac4302c7f300c7fbe8760a.dl.dropboxusercontent.com)... 162.125.5.15\n",
      "Connecting to uc372bac4302c7f300c7fbe8760a.dl.dropboxusercontent.com (uc372bac4302c7f300c7fbe8760a.dl.dropboxusercontent.com)|162.125.5.15|:443... connected.\n",
      "HTTP request sent, awaiting response... 302 Found\n",
      "Location: /cd/0/inline2/ByZh3fuRtjl6vETzJWtvieB1CNv1HiKHcnlIe_Qffmy1vIGDw9Jn7J2JUGsyM-jCnJcrBjAtRhGaSdvR8E09ujeq3C8D4pvuZr-mMrdixAhrvPi-t1CcsIri9slnq_mGErysaISngzbHplMoHrgjBFBHtB8Q4BQ5aLPvaMtYn0VAzGGcb0oBldxW98_VQO3U17NT1gqFrDMmQAkziRcVq6o2zGGDBJq-oJf6UFTYr9H0M1_jGgLk4emZjUR2Fq-2SENfxXmWNIfwhuCump1NgOb9GbvKInBqppGKzBKwx8OPOmpQgO0QGsVMcsUEoggZXcN6bBZTN_t4FpDrj60hSRj2FKFLZaMQHmUzOBHyhvLYkaxE9MM08QJDvNU2yEG_D-Z7awoshBLfmPj8dIfc2Pa38SagOJwg7lvjqzLlp7Ia0A/file [following]\n",
      "--2022-12-10 19:16:39--  https://uc372bac4302c7f300c7fbe8760a.dl.dropboxusercontent.com/cd/0/inline2/ByZh3fuRtjl6vETzJWtvieB1CNv1HiKHcnlIe_Qffmy1vIGDw9Jn7J2JUGsyM-jCnJcrBjAtRhGaSdvR8E09ujeq3C8D4pvuZr-mMrdixAhrvPi-t1CcsIri9slnq_mGErysaISngzbHplMoHrgjBFBHtB8Q4BQ5aLPvaMtYn0VAzGGcb0oBldxW98_VQO3U17NT1gqFrDMmQAkziRcVq6o2zGGDBJq-oJf6UFTYr9H0M1_jGgLk4emZjUR2Fq-2SENfxXmWNIfwhuCump1NgOb9GbvKInBqppGKzBKwx8OPOmpQgO0QGsVMcsUEoggZXcN6bBZTN_t4FpDrj60hSRj2FKFLZaMQHmUzOBHyhvLYkaxE9MM08QJDvNU2yEG_D-Z7awoshBLfmPj8dIfc2Pa38SagOJwg7lvjqzLlp7Ia0A/file\n",
      "Reusing existing connection to uc372bac4302c7f300c7fbe8760a.dl.dropboxusercontent.com:443.\n",
      "HTTP request sent, awaiting response... 200 OK\n",
      "Length: 6538 (6.4K) [application/octet-stream]\n",
      "Saving to: ‘results/hyp+vae/model_weights/hyp+vae_latent_2_lr_3e-05_b_1_the_best.index’\n",
      "\n",
      "results/hyp+vae/mod 100%[===================>]   6.38K  --.-KB/s    in 0s      \n",
      "\n",
      "2022-12-10 19:16:39 (271 MB/s) - ‘results/hyp+vae/model_weights/hyp+vae_latent_2_lr_3e-05_b_1_the_best.index’ saved [6538/6538]\n",
      "\n",
      "--2022-12-10 19:16:40--  https://www.dropbox.com/s/6xkn0af5a006d1x/Hyp%2BCNN_latent_2_lr_3e-05_b_1_the_best.data-00000-of-00001\n",
      "Resolving www.dropbox.com (www.dropbox.com)... 162.125.5.18\n",
      "Connecting to www.dropbox.com (www.dropbox.com)|162.125.5.18|:443... connected.\n",
      "HTTP request sent, awaiting response... 302 Found\n",
      "Location: /s/raw/6xkn0af5a006d1x/Hyp%2BCNN_latent_2_lr_3e-05_b_1_the_best.data-00000-of-00001 [following]\n",
      "--2022-12-10 19:16:40--  https://www.dropbox.com/s/raw/6xkn0af5a006d1x/Hyp%2BCNN_latent_2_lr_3e-05_b_1_the_best.data-00000-of-00001\n",
      "Reusing existing connection to www.dropbox.com:443.\n",
      "HTTP request sent, awaiting response... 302 Found\n",
      "Location: https://uc8468e636d76c01f902e8312a4e.dl.dropboxusercontent.com/cd/0/inline/BybqY6rTHViMWJY9wJePcHeMdUq-nsC0Gn4QbUvwWZeBRHgmPvjXPcev1PPu0i9xsfA_bQ-Apjzd-7cGTSAtLJ1SjcfgMZV7O72-iMzrytgspVw0ggFCInhPJbOBhyE0Jz41TWyuVBGGUKE4vFVn3dhxdTZcoHBAuxdjBhZbaBYz-Q/file# [following]\n",
      "--2022-12-10 19:16:41--  https://uc8468e636d76c01f902e8312a4e.dl.dropboxusercontent.com/cd/0/inline/BybqY6rTHViMWJY9wJePcHeMdUq-nsC0Gn4QbUvwWZeBRHgmPvjXPcev1PPu0i9xsfA_bQ-Apjzd-7cGTSAtLJ1SjcfgMZV7O72-iMzrytgspVw0ggFCInhPJbOBhyE0Jz41TWyuVBGGUKE4vFVn3dhxdTZcoHBAuxdjBhZbaBYz-Q/file\n",
      "Resolving uc8468e636d76c01f902e8312a4e.dl.dropboxusercontent.com (uc8468e636d76c01f902e8312a4e.dl.dropboxusercontent.com)... 162.125.5.15\n",
      "Connecting to uc8468e636d76c01f902e8312a4e.dl.dropboxusercontent.com (uc8468e636d76c01f902e8312a4e.dl.dropboxusercontent.com)|162.125.5.15|:443... connected.\n",
      "HTTP request sent, awaiting response... 302 Found\n",
      "Location: /cd/0/inline2/Bya6iBKg-YK6fnBCYVrolDYmiWxX4Ir8i6C_Gt-aWJw2VoIpzAysZ-9eLdowvjPHNa8D6FXB68FKJbWASSwFiv7XPN6PUm4EB8UseIeH-kzeRZuI5NU7CR7zcbtrO9qM0y0ZpsGQwKvHuoU3dpZqh5vzpD_O5yOEEAgvJeihDKLJXyHU5By-HTtNomCt-2NJI7QHa88helntQq8ydYqbsZgg9SK24Yo7XFSGWwoR3a28ZBqrld_TLrLWfmF_V4mlFzruFvSuvjPy1Qcni-PDf8J8EQNIXaL4VLNNXKBXN2Y83u0GvpUIdk5z2U1Lxq2dea0wxmtV5Gyn0qm2quHL96ujULg3us2VrUn5n9b-MUOQ66PV2ag22m3pWB54EfmH8kdCaDEb9FlpA2JnBJ7rw-EnEqUdnIAmxc0kkRbCci7dow/file [following]\n",
      "--2022-12-10 19:16:42--  https://uc8468e636d76c01f902e8312a4e.dl.dropboxusercontent.com/cd/0/inline2/Bya6iBKg-YK6fnBCYVrolDYmiWxX4Ir8i6C_Gt-aWJw2VoIpzAysZ-9eLdowvjPHNa8D6FXB68FKJbWASSwFiv7XPN6PUm4EB8UseIeH-kzeRZuI5NU7CR7zcbtrO9qM0y0ZpsGQwKvHuoU3dpZqh5vzpD_O5yOEEAgvJeihDKLJXyHU5By-HTtNomCt-2NJI7QHa88helntQq8ydYqbsZgg9SK24Yo7XFSGWwoR3a28ZBqrld_TLrLWfmF_V4mlFzruFvSuvjPy1Qcni-PDf8J8EQNIXaL4VLNNXKBXN2Y83u0GvpUIdk5z2U1Lxq2dea0wxmtV5Gyn0qm2quHL96ujULg3us2VrUn5n9b-MUOQ66PV2ag22m3pWB54EfmH8kdCaDEb9FlpA2JnBJ7rw-EnEqUdnIAmxc0kkRbCci7dow/file\n",
      "Reusing existing connection to uc8468e636d76c01f902e8312a4e.dl.dropboxusercontent.com:443.\n",
      "HTTP request sent, awaiting response... 200 OK\n",
      "Length: 70554136 (67M) [application/octet-stream]\n",
      "Saving to: ‘results/hyp+vae/model_weights/hyp+vae_latent_2_lr_3e-05_b_1_the_best.data-00000-of-00001’\n",
      "\n",
      "results/hyp+vae/mod 100%[===================>]  67.29M  21.1MB/s    in 3.2s    \n",
      "\n",
      "2022-12-10 19:16:46 (21.1 MB/s) - ‘results/hyp+vae/model_weights/hyp+vae_latent_2_lr_3e-05_b_1_the_best.data-00000-of-00001’ saved [70554136/70554136]\n",
      "\n"
     ]
    }
   ],
   "source": [
    "!wget -O results/hyp+vae/model_weights/hyp+vae_latent_2_lr_3e-05_b_1_the_best.index https://www.dropbox.com/s/3gg0h57boq5uhf9/Hyp%2BCNN_latent_2_lr_3e-05_b_1_the_best.index\n",
    "!wget -O results/hyp+vae/model_weights/hyp+vae_latent_2_lr_3e-05_b_1_the_best.data-00000-of-00001 https://www.dropbox.com/s/6xkn0af5a006d1x/Hyp%2BCNN_latent_2_lr_3e-05_b_1_the_best.data-00000-of-00001"
   ]
  },
  {
   "cell_type": "code",
   "execution_count": null,
   "metadata": {},
   "outputs": [],
   "source": []
  }
 ],
 "metadata": {
  "kernelspec": {
   "display_name": "Python 3",
   "language": "python",
   "name": "python3"
  },
  "language_info": {
   "codemirror_mode": {
    "name": "ipython",
    "version": 3
   },
   "file_extension": ".py",
   "mimetype": "text/x-python",
   "name": "python",
   "nbconvert_exporter": "python",
   "pygments_lexer": "ipython3",
   "version": "3.9.7"
  },
  "orig_nbformat": 4,
  "vscode": {
   "interpreter": {
    "hash": "d4152bdc127b0e70b8c6f6932f55d8559712cdef36760adb9c438874d4d634b0"
   }
  }
 },
 "nbformat": 4,
 "nbformat_minor": 2
}
