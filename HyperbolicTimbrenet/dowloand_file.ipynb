{
 "cells": [
  {
   "attachments": {},
   "cell_type": "markdown",
   "metadata": {},
   "source": [
    "# Descargar"
   ]
  },
  {
   "attachments": {},
   "cell_type": "markdown",
   "metadata": {},
   "source": [
    "## Modelo baseline"
   ]
  },
  {
   "cell_type": "code",
   "execution_count": 7,
   "metadata": {},
   "outputs": [
    {
     "name": "stdout",
     "output_type": "stream",
     "text": [
      "--2022-12-09 17:25:18--  https://www.dropbox.com/s/mgldawvoqv6tfmb/baseline_latent_2_lr_3e-05_b_1_the_best.data-00000-of-00001\n",
      "Resolving www.dropbox.com (www.dropbox.com)... 162.125.5.18\n",
      "Connecting to www.dropbox.com (www.dropbox.com)|162.125.5.18|:443... connected.\n",
      "HTTP request sent, awaiting response... 302 Found\n",
      "Location: /s/raw/mgldawvoqv6tfmb/baseline_latent_2_lr_3e-05_b_1_the_best.data-00000-of-00001 [following]\n",
      "--2022-12-09 17:25:18--  https://www.dropbox.com/s/raw/mgldawvoqv6tfmb/baseline_latent_2_lr_3e-05_b_1_the_best.data-00000-of-00001\n",
      "Reusing existing connection to www.dropbox.com:443.\n",
      "HTTP request sent, awaiting response... 302 Found\n",
      "Location: https://uc6686bc8df5d858443a4bf59d01.dl.dropboxusercontent.com/cd/0/inline/ByXIxEiIeQo4cFjA9NR-fFceJM2d9VAtk5nStQaMvfGpBg7VPk16vLnnOzSaCHvSBU4v0LVNO6pufHUkKbKqK9o2eG0g583-qcHIvMiEYYtTvmcDqg-Fy9ng0QviKdc1c0M3cFRkHdHDxaEGarkSTtYt6l_dDkd0rktQnV5HULHDfw/file# [following]\n",
      "--2022-12-09 17:25:19--  https://uc6686bc8df5d858443a4bf59d01.dl.dropboxusercontent.com/cd/0/inline/ByXIxEiIeQo4cFjA9NR-fFceJM2d9VAtk5nStQaMvfGpBg7VPk16vLnnOzSaCHvSBU4v0LVNO6pufHUkKbKqK9o2eG0g583-qcHIvMiEYYtTvmcDqg-Fy9ng0QviKdc1c0M3cFRkHdHDxaEGarkSTtYt6l_dDkd0rktQnV5HULHDfw/file\n",
      "Resolving uc6686bc8df5d858443a4bf59d01.dl.dropboxusercontent.com (uc6686bc8df5d858443a4bf59d01.dl.dropboxusercontent.com)... 162.125.5.15\n",
      "Connecting to uc6686bc8df5d858443a4bf59d01.dl.dropboxusercontent.com (uc6686bc8df5d858443a4bf59d01.dl.dropboxusercontent.com)|162.125.5.15|:443... connected.\n",
      "HTTP request sent, awaiting response... 302 Found\n",
      "Location: /cd/0/inline2/ByVGxGllMmcO1QzcTqcoudHzRAyxWB_v1hcbk0ZDQym5EvcbPjcmLUC9zD4uzddKWLQ2c8WfEEDmxFbYTVpDQphiImfiGgSMaiCG_IBp2WBip4Car1DXrHkhjJtYZNysPbS0t-D-Wq49MdZqJlHgrrRsy3AhCr7hH-WF_eqwrKhZFmYNtrj_HYIGYURqAtooK5-zkaf1aSECDNl0a6AsH0jtn_E3NlIQxMptHFJC4mCGZXWOCAhRWDIs0j0esg10CT0WTSr6Wmx3TkCefBePT71BASzvOFud9eRHw6obkdwgUXPqWBEx_qdXWi_Wr6bQJiWKmTkE3sQRUpiR_5j8XSN7_AIA8L-GAqljm8pArfyrmyzjgZo2UwsQNGuYoYfsotfvU9ui-tjp_6Pi_can0-aJR_GgdvOwToTgD5WAPnjIpg/file [following]\n",
      "--2022-12-09 17:25:20--  https://uc6686bc8df5d858443a4bf59d01.dl.dropboxusercontent.com/cd/0/inline2/ByVGxGllMmcO1QzcTqcoudHzRAyxWB_v1hcbk0ZDQym5EvcbPjcmLUC9zD4uzddKWLQ2c8WfEEDmxFbYTVpDQphiImfiGgSMaiCG_IBp2WBip4Car1DXrHkhjJtYZNysPbS0t-D-Wq49MdZqJlHgrrRsy3AhCr7hH-WF_eqwrKhZFmYNtrj_HYIGYURqAtooK5-zkaf1aSECDNl0a6AsH0jtn_E3NlIQxMptHFJC4mCGZXWOCAhRWDIs0j0esg10CT0WTSr6Wmx3TkCefBePT71BASzvOFud9eRHw6obkdwgUXPqWBEx_qdXWi_Wr6bQJiWKmTkE3sQRUpiR_5j8XSN7_AIA8L-GAqljm8pArfyrmyzjgZo2UwsQNGuYoYfsotfvU9ui-tjp_6Pi_can0-aJR_GgdvOwToTgD5WAPnjIpg/file\n",
      "Reusing existing connection to uc6686bc8df5d858443a4bf59d01.dl.dropboxusercontent.com:443.\n",
      "HTTP request sent, awaiting response... 200 OK\n",
      "Length: 68258188 (65M) [application/octet-stream]\n",
      "Saving to: ‘results/baseline/model_weights/baseline_latent_2_lr_3e-05_b_1_the_best.data-00000-of-00001’\n",
      "\n",
      "results/baseline/mo 100%[===================>]  65.10M  18.8MB/s    in 4.3s    \n",
      "\n",
      "2022-12-09 17:25:25 (15.2 MB/s) - ‘results/baseline/model_weights/baseline_latent_2_lr_3e-05_b_1_the_best.data-00000-of-00001’ saved [68258188/68258188]\n",
      "\n"
     ]
    }
   ],
   "source": [
    "!wget -O results/baseline/model_weights/baseline_latent_2_lr_3e-05_b_1_the_best.index https://www.dropbox.com/s/x6n4c8k0eq9t68h/baseline_latent_2_lr_3e-05_b_1_the_best.index\n",
    "!wget -O results/baseline/model_weights/baseline_latent_2_lr_3e-05_b_1_the_best.data-00000-of-00001 https://www.dropbox.com/s/mgldawvoqv6tfmb/baseline_latent_2_lr_3e-05_b_1_the_best.data-00000-of-00001"
   ]
  },
  {
   "attachments": {},
   "cell_type": "markdown",
   "metadata": {},
   "source": [
    "## Modelo baseline Hyperbolico"
   ]
  },
  {
   "cell_type": "code",
   "execution_count": 6,
   "metadata": {},
   "outputs": [
    {
     "name": "stdout",
     "output_type": "stream",
     "text": [
      "--2022-12-09 17:20:35--  https://www.dropbox.com/s/jncdm9b58uwqo93/baseline_hyperbolic_latent_2_lr_3e-05_b_1_the_best.index\n",
      "Resolving www.dropbox.com (www.dropbox.com)... 162.125.5.18\n",
      "Connecting to www.dropbox.com (www.dropbox.com)|162.125.5.18|:443... connected.\n",
      "HTTP request sent, awaiting response... 302 Found\n",
      "Location: /s/raw/jncdm9b58uwqo93/baseline_hyperbolic_latent_2_lr_3e-05_b_1_the_best.index [following]\n",
      "--2022-12-09 17:20:35--  https://www.dropbox.com/s/raw/jncdm9b58uwqo93/baseline_hyperbolic_latent_2_lr_3e-05_b_1_the_best.index\n",
      "Reusing existing connection to www.dropbox.com:443.\n",
      "HTTP request sent, awaiting response... 302 Found\n",
      "Location: https://ucfa621a6158d1632d2cd687052a.dl.dropboxusercontent.com/cd/0/inline/ByXAVL_EY_Vg115uPdFBxxCIV113dIrra_6jBSFjJa7ug6sWIbD-6xh-YwLbTWLVEO_mDbRh8D7fij2Wf2slp8IrxfYxksZ-A8SAZ8Am4DmOrqT8rUa7o-muxYWHbfiFDs9TTcvuI10L3wR9slG2z-fDhb88L8n_GQly5oC4-FvNUA/file# [following]\n",
      "--2022-12-09 17:20:36--  https://ucfa621a6158d1632d2cd687052a.dl.dropboxusercontent.com/cd/0/inline/ByXAVL_EY_Vg115uPdFBxxCIV113dIrra_6jBSFjJa7ug6sWIbD-6xh-YwLbTWLVEO_mDbRh8D7fij2Wf2slp8IrxfYxksZ-A8SAZ8Am4DmOrqT8rUa7o-muxYWHbfiFDs9TTcvuI10L3wR9slG2z-fDhb88L8n_GQly5oC4-FvNUA/file\n",
      "Resolving ucfa621a6158d1632d2cd687052a.dl.dropboxusercontent.com (ucfa621a6158d1632d2cd687052a.dl.dropboxusercontent.com)... 162.125.5.15\n",
      "Connecting to ucfa621a6158d1632d2cd687052a.dl.dropboxusercontent.com (ucfa621a6158d1632d2cd687052a.dl.dropboxusercontent.com)|162.125.5.15|:443... connected.\n",
      "HTTP request sent, awaiting response... 302 Found\n",
      "Location: /cd/0/inline2/ByWw8hL1m-UUEcwOXWdvCTwsrbicVyLNCM6zhzHum2-WFc_0fhmbMlz7job0XdNufy9NguHroIZXsNBiq70dPOvlao9PPrLekDuSufIdSDZi-0If31QWmuvIxXZC2YLTqwJ-RCQquZ9ceTN9lyJiefpwoktx09JBeSdz7tBkmPEbFNOiOA7rfdEaxkD7KfG-5APIzVBTJwj2D2EbwPPupHK3RgAl37iYjuDMkl48t3KsChmNhUmF_i_ARWYafXULgL45O9z8G-qRmpJ2utwe1qhF6FlnxvVTcaKFDHbvBB9w1bCBkSDrTrQhAFCZriLJoo_CAJz-6RIol9Wec8e3uVgzShepld6ereZXkAPWTqbUxdE9ynMzMFQjH4tLlyI1k3_V0-jLYhUHAkxElmccuRtSbAGR6kfndgpPmvXFljxKWA/file [following]\n",
      "--2022-12-09 17:20:37--  https://ucfa621a6158d1632d2cd687052a.dl.dropboxusercontent.com/cd/0/inline2/ByWw8hL1m-UUEcwOXWdvCTwsrbicVyLNCM6zhzHum2-WFc_0fhmbMlz7job0XdNufy9NguHroIZXsNBiq70dPOvlao9PPrLekDuSufIdSDZi-0If31QWmuvIxXZC2YLTqwJ-RCQquZ9ceTN9lyJiefpwoktx09JBeSdz7tBkmPEbFNOiOA7rfdEaxkD7KfG-5APIzVBTJwj2D2EbwPPupHK3RgAl37iYjuDMkl48t3KsChmNhUmF_i_ARWYafXULgL45O9z8G-qRmpJ2utwe1qhF6FlnxvVTcaKFDHbvBB9w1bCBkSDrTrQhAFCZriLJoo_CAJz-6RIol9Wec8e3uVgzShepld6ereZXkAPWTqbUxdE9ynMzMFQjH4tLlyI1k3_V0-jLYhUHAkxElmccuRtSbAGR6kfndgpPmvXFljxKWA/file\n",
      "Reusing existing connection to ucfa621a6158d1632d2cd687052a.dl.dropboxusercontent.com:443.\n",
      "HTTP request sent, awaiting response... 200 OK\n",
      "Length: 6340 (6.2K) [application/octet-stream]\n",
      "Saving to: ‘results/baseline_hyp/model_weights/baseline_hyperbolic_latent_2_lr_3e-05_b_1_the_best.index’\n",
      "\n",
      "results/baseline_hy 100%[===================>]   6.19K  --.-KB/s    in 0s      \n",
      "\n",
      "2022-12-09 17:20:37 (5.90 GB/s) - ‘results/baseline_hyp/model_weights/baseline_hyperbolic_latent_2_lr_3e-05_b_1_the_best.index’ saved [6340/6340]\n",
      "\n",
      "--2022-12-09 17:20:37--  https://www.dropbox.com/s/yjg1l77ymndkwpg/baseline_hyperbolic_latent_2_lr_3e-05_b_1_the_best.data-00000-of-00001\n",
      "Resolving www.dropbox.com (www.dropbox.com)... 162.125.5.18\n",
      "Connecting to www.dropbox.com (www.dropbox.com)|162.125.5.18|:443... connected.\n",
      "HTTP request sent, awaiting response... 302 Found\n",
      "Location: /s/raw/yjg1l77ymndkwpg/baseline_hyperbolic_latent_2_lr_3e-05_b_1_the_best.data-00000-of-00001 [following]\n",
      "--2022-12-09 17:20:38--  https://www.dropbox.com/s/raw/yjg1l77ymndkwpg/baseline_hyperbolic_latent_2_lr_3e-05_b_1_the_best.data-00000-of-00001\n",
      "Reusing existing connection to www.dropbox.com:443.\n",
      "HTTP request sent, awaiting response... 302 Found\n",
      "Location: https://uc4e19571417007827109828ad4e.dl.dropboxusercontent.com/cd/0/inline/ByXG0anq6d1nhvUx42GgKgwZco7ue8i8h5G9HfWaVSMzqgwleaqvbbMi760gXEcuBu5M5q-ryDGjIKdYvzHdAiUbLgVX4psllW-ejf98v8lv52NDQMNe9HbrnFxukaVLPqixOwpRnewT-lDGt3ZRyQMS-6ulzsaWNBmWkbYnl7508Q/file# [following]\n",
      "--2022-12-09 17:20:38--  https://uc4e19571417007827109828ad4e.dl.dropboxusercontent.com/cd/0/inline/ByXG0anq6d1nhvUx42GgKgwZco7ue8i8h5G9HfWaVSMzqgwleaqvbbMi760gXEcuBu5M5q-ryDGjIKdYvzHdAiUbLgVX4psllW-ejf98v8lv52NDQMNe9HbrnFxukaVLPqixOwpRnewT-lDGt3ZRyQMS-6ulzsaWNBmWkbYnl7508Q/file\n",
      "Resolving uc4e19571417007827109828ad4e.dl.dropboxusercontent.com (uc4e19571417007827109828ad4e.dl.dropboxusercontent.com)... 162.125.5.15\n",
      "Connecting to uc4e19571417007827109828ad4e.dl.dropboxusercontent.com (uc4e19571417007827109828ad4e.dl.dropboxusercontent.com)|162.125.5.15|:443... connected.\n",
      "HTTP request sent, awaiting response... 302 Found\n",
      "Location: /cd/0/inline2/ByV_3dxhC7xmDSVsVh1XYcVqdhI6LwBQi-1PhELezDU-MvL6Gt2cfQYvtQlB6hiCA8Ejq9DgMLOa1OOwmEPrauHaVGMQusWyt4jNhoWP2y60glrlQQLbg3ISK9TP_S_gJWyjkm6Jjhz_igz6XS8S8h86MkfKuDTBIDRqZbm9EFCgLLe1mmJLL1QHq5kZZG4E4GPNBaCM73tzpxbvmwnrHONbTYc2eK43OfFvAD8-07r_j93VK1_dMkRtU37U5XtGL3c3eVaZHVCiZ4QoWjgV_oEu_AvV20oSenRtrz7LNoR0or6lAW8eSIMJR9ZNbXqqAQOiENd3Hgv350U1Q_Padd8QbI0CpQN2I45l2QU_vYVVtdQ6AM1xkLkuUon9ihmKJklaKIuOCXGdMXW-DxJ2W3SAwJNDaJcQUye3uYiNUJ3ubw/file [following]\n",
      "--2022-12-09 17:20:39--  https://uc4e19571417007827109828ad4e.dl.dropboxusercontent.com/cd/0/inline2/ByV_3dxhC7xmDSVsVh1XYcVqdhI6LwBQi-1PhELezDU-MvL6Gt2cfQYvtQlB6hiCA8Ejq9DgMLOa1OOwmEPrauHaVGMQusWyt4jNhoWP2y60glrlQQLbg3ISK9TP_S_gJWyjkm6Jjhz_igz6XS8S8h86MkfKuDTBIDRqZbm9EFCgLLe1mmJLL1QHq5kZZG4E4GPNBaCM73tzpxbvmwnrHONbTYc2eK43OfFvAD8-07r_j93VK1_dMkRtU37U5XtGL3c3eVaZHVCiZ4QoWjgV_oEu_AvV20oSenRtrz7LNoR0or6lAW8eSIMJR9ZNbXqqAQOiENd3Hgv350U1Q_Padd8QbI0CpQN2I45l2QU_vYVVtdQ6AM1xkLkuUon9ihmKJklaKIuOCXGdMXW-DxJ2W3SAwJNDaJcQUye3uYiNUJ3ubw/file\n",
      "Reusing existing connection to uc4e19571417007827109828ad4e.dl.dropboxusercontent.com:443.\n",
      "HTTP request sent, awaiting response... 200 OK\n",
      "Length: 68267024 (65M) [application/octet-stream]\n",
      "Saving to: ‘results/baseline_hyp/model_weights/baseline_hyperbolic_latent_2_lr_3e-05_b_1_the_best.data-00000-of-00001’\n",
      "\n",
      "results/baseline_hy 100%[===================>]  65.10M  17.6MB/s    in 4.7s    \n",
      "\n",
      "2022-12-09 17:20:45 (13.8 MB/s) - ‘results/baseline_hyp/model_weights/baseline_hyperbolic_latent_2_lr_3e-05_b_1_the_best.data-00000-of-00001’ saved [68267024/68267024]\n",
      "\n"
     ]
    }
   ],
   "source": [
    "\n",
    "\n",
    "!wget -O results/baseline_hyp/model_weights/baseline_hyperbolic_latent_2_lr_3e-05_b_1_the_best.index https://www.dropbox.com/s/jncdm9b58uwqo93/baseline_hyperbolic_latent_2_lr_3e-05_b_1_the_best.index\n",
    "!wget -O results/baseline_hyp/model_weights/baseline_hyperbolic_latent_2_lr_3e-05_b_1_the_best.data-00000-of-00001 https://www.dropbox.com/s/yjg1l77ymndkwpg/baseline_hyperbolic_latent_2_lr_3e-05_b_1_the_best.data-00000-of-00001\n"
   ]
  },
  {
   "attachments": {},
   "cell_type": "markdown",
   "metadata": {},
   "source": [
    "##  Breguel model\n"
   ]
  },
  {
   "cell_type": "code",
   "execution_count": 9,
   "metadata": {},
   "outputs": [
    {
     "name": "stdout",
     "output_type": "stream",
     "text": [
      "--2022-12-09 17:29:50--  https://www.dropbox.com/s/vdxggzjyl76niiv/breguel_model_latent_2_lr_3e-05_b_1_the_best.index\n",
      "Resolving www.dropbox.com (www.dropbox.com)... 162.125.5.18\n",
      "Connecting to www.dropbox.com (www.dropbox.com)|162.125.5.18|:443... connected.\n",
      "HTTP request sent, awaiting response... 302 Found\n",
      "Location: /s/raw/vdxggzjyl76niiv/breguel_model_latent_2_lr_3e-05_b_1_the_best.index [following]\n",
      "--2022-12-09 17:29:51--  https://www.dropbox.com/s/raw/vdxggzjyl76niiv/breguel_model_latent_2_lr_3e-05_b_1_the_best.index\n",
      "Reusing existing connection to www.dropbox.com:443.\n",
      "HTTP request sent, awaiting response... 302 Found\n",
      "Location: https://uc1691dd7e15b25cff3414b5ca6e.dl.dropboxusercontent.com/cd/0/inline/ByUHEOFeFMa4ZE3LEJaSi6oPMbtghhqq6hwWYNiKNyiKhgr4wCT_d0bEgjaN871xJz77_WinaBgyP5uZa0OoV39wtwbJpBFCwJLkIiUEjulVuw2dmecL3ONU1UYibFkXN3yFaG6xzsnGtn2pVOKoh1dDM997WIKqEfPSCPLu-1Lijg/file# [following]\n",
      "--2022-12-09 17:29:51--  https://uc1691dd7e15b25cff3414b5ca6e.dl.dropboxusercontent.com/cd/0/inline/ByUHEOFeFMa4ZE3LEJaSi6oPMbtghhqq6hwWYNiKNyiKhgr4wCT_d0bEgjaN871xJz77_WinaBgyP5uZa0OoV39wtwbJpBFCwJLkIiUEjulVuw2dmecL3ONU1UYibFkXN3yFaG6xzsnGtn2pVOKoh1dDM997WIKqEfPSCPLu-1Lijg/file\n",
      "Resolving uc1691dd7e15b25cff3414b5ca6e.dl.dropboxusercontent.com (uc1691dd7e15b25cff3414b5ca6e.dl.dropboxusercontent.com)... 162.125.5.15\n",
      "Connecting to uc1691dd7e15b25cff3414b5ca6e.dl.dropboxusercontent.com (uc1691dd7e15b25cff3414b5ca6e.dl.dropboxusercontent.com)|162.125.5.15|:443... connected.\n",
      "HTTP request sent, awaiting response... 302 Found\n",
      "Location: /cd/0/inline2/ByUQ6I4x14zUDZT2jG9Vvn_a5kdHCXxrIud3krw93yxlpT4IRwgcPvrCkYJyWo9lqPmobw6pGK0lZEwKaZ7g7bu_EhoSv1BHFJfTR8cWpa-dRNeWIOrnyW5iSqGsiQqHW4STfYfzwoNFhf0iHFvtg89lXgIm08yeNoHkQgYmf6QcxlY8kk8Ej3d5lzliGQDcqvIYMiyqWaEdIN2ru7n3oF8ruHdQqpAWN5GAaMK6PhvAiN7u34ynh_MhNEUr5_rz40j9HVBtpQHsIEAiRd9imnAixb5QRjwD8pttNkutkeuD5rHjtqsoaeIW4SSTUHDN8kCtPJuQqO46-PM3RgWOtZdrYsWSxK60lnXDfz1VacQgUMcdQDPPTZjWFJl-y56gur9Se8pfe4YXNO4GKiVk96aGFz7kVbXwNPLXKYzifjb1Vw/file [following]\n",
      "--2022-12-09 17:29:52--  https://uc1691dd7e15b25cff3414b5ca6e.dl.dropboxusercontent.com/cd/0/inline2/ByUQ6I4x14zUDZT2jG9Vvn_a5kdHCXxrIud3krw93yxlpT4IRwgcPvrCkYJyWo9lqPmobw6pGK0lZEwKaZ7g7bu_EhoSv1BHFJfTR8cWpa-dRNeWIOrnyW5iSqGsiQqHW4STfYfzwoNFhf0iHFvtg89lXgIm08yeNoHkQgYmf6QcxlY8kk8Ej3d5lzliGQDcqvIYMiyqWaEdIN2ru7n3oF8ruHdQqpAWN5GAaMK6PhvAiN7u34ynh_MhNEUr5_rz40j9HVBtpQHsIEAiRd9imnAixb5QRjwD8pttNkutkeuD5rHjtqsoaeIW4SSTUHDN8kCtPJuQqO46-PM3RgWOtZdrYsWSxK60lnXDfz1VacQgUMcdQDPPTZjWFJl-y56gur9Se8pfe4YXNO4GKiVk96aGFz7kVbXwNPLXKYzifjb1Vw/file\n",
      "Reusing existing connection to uc1691dd7e15b25cff3414b5ca6e.dl.dropboxusercontent.com:443.\n",
      "HTTP request sent, awaiting response... 200 OK\n",
      "Length: 6503 (6.4K) [application/octet-stream]\n",
      "Saving to: ‘results/breguel_model/model_weights/breguel_model_latent_2_lr_3e-05_b_1_the_best.index’\n",
      "\n",
      "results/breguel_mod 100%[===================>]   6.35K  --.-KB/s    in 0s      \n",
      "\n",
      "2022-12-09 17:29:52 (6.06 GB/s) - ‘results/breguel_model/model_weights/breguel_model_latent_2_lr_3e-05_b_1_the_best.index’ saved [6503/6503]\n",
      "\n"
     ]
    }
   ],
   "source": [
    "!wget -O results/breguel_model/model_weights/breguel_model_latent_2_lr_3e-05_b_1_the_best.index https://www.dropbox.com/s/vdxggzjyl76niiv/breguel_model_latent_2_lr_3e-05_b_1_the_best.index\n",
    "!wget -O results/breguel_model/model_weights/breguel_model_latent_2_lr_3e-05_b_1_the_best.data-00000-of-00001 https://www.dropbox.com/s/wpnumej64mc290d/breguel_model_latent_2_lr_3e-05_b_1_the_best.data-00000-of-00001\n"
   ]
  },
  {
   "attachments": {},
   "cell_type": "markdown",
   "metadata": {},
   "source": [
    "## Mircea model"
   ]
  },
  {
   "cell_type": "code",
   "execution_count": null,
   "metadata": {},
   "outputs": [],
   "source": [
    "!wget -O results/mircea_model/model_weights/mircea_model_latent_2_lr_3e-05_b_1_the_best.index https://www.dropbox.com/s/83fuwtawrcc3br6/mircea_model_latent_2_lr_3e-05_b_1_the_best.index\n",
    "!wget -O results/mircea_model/model_weights/mircea_model_latent_2_lr_3e-05_b_1_the_best.data-00000-of-00001 https://www.dropbox.com/s/p2kaizm4pwyqkr6/mircea_model_latent_2_lr_3e-05_b_1_the_best.data-00000-of-00001"
   ]
  }
 ],
 "metadata": {
  "kernelspec": {
   "display_name": "Python 3",
   "language": "python",
   "name": "python3"
  },
  "language_info": {
   "codemirror_mode": {
    "name": "ipython",
    "version": 3
   },
   "file_extension": ".py",
   "mimetype": "text/x-python",
   "name": "python",
   "nbconvert_exporter": "python",
   "pygments_lexer": "ipython3",
   "version": "3.9.7 (default, Aug  8 2022, 18:51:43) \n[Clang 13.1.6 (clang-1316.0.21.2.5)]"
  },
  "orig_nbformat": 4,
  "vscode": {
   "interpreter": {
    "hash": "d4152bdc127b0e70b8c6f6932f55d8559712cdef36760adb9c438874d4d634b0"
   }
  }
 },
 "nbformat": 4,
 "nbformat_minor": 2
}
