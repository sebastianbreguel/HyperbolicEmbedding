{
 "cells": [
  {
   "attachments": {},
   "cell_type": "markdown",
   "metadata": {},
   "source": [
    "# Descargar"
   ]
  },
  {
   "attachments": {},
   "cell_type": "markdown",
   "metadata": {},
   "source": [
    "## Modelo baseline"
   ]
  },
  {
   "cell_type": "code",
   "execution_count": 8,
   "metadata": {},
   "outputs": [
    {
     "name": "stdout",
     "output_type": "stream",
     "text": [
      "--2022-12-10 19:42:42--  https://www.dropbox.com/s/x6n4c8k0eq9t68h/baseline_latent_2_lr_3e-05_b_1_the_best.index\n",
      "Resolving www.dropbox.com (www.dropbox.com)... 162.125.5.18\n",
      "Connecting to www.dropbox.com (www.dropbox.com)|162.125.5.18|:443... connected.\n",
      "HTTP request sent, awaiting response... 302 Found\n",
      "Location: /s/raw/x6n4c8k0eq9t68h/baseline_latent_2_lr_3e-05_b_1_the_best.index [following]\n",
      "--2022-12-10 19:42:43--  https://www.dropbox.com/s/raw/x6n4c8k0eq9t68h/baseline_latent_2_lr_3e-05_b_1_the_best.index\n",
      "Reusing existing connection to www.dropbox.com:443.\n",
      "HTTP request sent, awaiting response... 302 Found\n",
      "Location: https://uc0379dc0687c572a83e4b86da23.dl.dropboxusercontent.com/cd/0/inline/ByajIMkYJsjYvSYsRAvYvpaNN59zr7VuOiK56F0PtU0yvp7fLd1NXTWBfW8ODN0nxM6nwbxrNKJ1RHriKNHYh1sM9hP-F1L-YvNwdT6TahACf8P6UUpIvEo1iRQ3AuqX6e3Ouq31Xjb92B8Iw7O-16FOD7eVLMTWQvwgpZXdIL55YA/file# [following]\n",
      "--2022-12-10 19:42:43--  https://uc0379dc0687c572a83e4b86da23.dl.dropboxusercontent.com/cd/0/inline/ByajIMkYJsjYvSYsRAvYvpaNN59zr7VuOiK56F0PtU0yvp7fLd1NXTWBfW8ODN0nxM6nwbxrNKJ1RHriKNHYh1sM9hP-F1L-YvNwdT6TahACf8P6UUpIvEo1iRQ3AuqX6e3Ouq31Xjb92B8Iw7O-16FOD7eVLMTWQvwgpZXdIL55YA/file\n",
      "Resolving uc0379dc0687c572a83e4b86da23.dl.dropboxusercontent.com (uc0379dc0687c572a83e4b86da23.dl.dropboxusercontent.com)... 162.125.5.15\n",
      "Connecting to uc0379dc0687c572a83e4b86da23.dl.dropboxusercontent.com (uc0379dc0687c572a83e4b86da23.dl.dropboxusercontent.com)|162.125.5.15|:443... connected.\n",
      "HTTP request sent, awaiting response... 302 Found\n",
      "Location: /cd/0/inline2/BybxGj8FDMQwgXK6Y5Q9sPcIFuDlWFh-V0T6KZhMuugGg7oCSUPidZVRGirOOadSNW_-QVBXTcD6UXNk78l2J7J1UVM4nWd2Z4wGV9m34pAhnvJJHaqO-k_2Yl_iZsmOldFM81HrcWY0dn7HfuNdoSWEwMuZboaFxWjkYbrot76wd0kBIn0FFhgN8H5hTVDbOnRRa137OpUq464LulrrVwa7Y1vCIUJKZyQfes_y7AUlYVJ1NC4rcq8ZYWoDhWL1VrZRsQ_EUUT7MpyHkwrSsQDwmWv-MMdPGCnQnv9nqDMqWK760siwDUNrlHu1BcP_bbEQyXC51mGh6dpXY1GnCS_As4fcv6KdsN9w9FZP6MGz5wpEgKVbBzr6wrqX71B9OGea7th5huNykAKEudw8pHJ-shEK4mYiAQH-jG6rNrt8Vg/file [following]\n",
      "--2022-12-10 19:42:44--  https://uc0379dc0687c572a83e4b86da23.dl.dropboxusercontent.com/cd/0/inline2/BybxGj8FDMQwgXK6Y5Q9sPcIFuDlWFh-V0T6KZhMuugGg7oCSUPidZVRGirOOadSNW_-QVBXTcD6UXNk78l2J7J1UVM4nWd2Z4wGV9m34pAhnvJJHaqO-k_2Yl_iZsmOldFM81HrcWY0dn7HfuNdoSWEwMuZboaFxWjkYbrot76wd0kBIn0FFhgN8H5hTVDbOnRRa137OpUq464LulrrVwa7Y1vCIUJKZyQfes_y7AUlYVJ1NC4rcq8ZYWoDhWL1VrZRsQ_EUUT7MpyHkwrSsQDwmWv-MMdPGCnQnv9nqDMqWK760siwDUNrlHu1BcP_bbEQyXC51mGh6dpXY1GnCS_As4fcv6KdsN9w9FZP6MGz5wpEgKVbBzr6wrqX71B9OGea7th5huNykAKEudw8pHJ-shEK4mYiAQH-jG6rNrt8Vg/file\n",
      "Reusing existing connection to uc0379dc0687c572a83e4b86da23.dl.dropboxusercontent.com:443.\n",
      "HTTP request sent, awaiting response... 200 OK\n",
      "Length: 6112 (6.0K) [application/octet-stream]\n",
      "Saving to: ‘results/baseline/model_weights/baseline_latent_2_lr_3e-05_b_1_the_best.index’\n",
      "\n",
      "results/baseline/mo 100%[===================>]   5.97K  --.-KB/s    in 0s      \n",
      "\n",
      "2022-12-10 19:42:44 (5.69 GB/s) - ‘results/baseline/model_weights/baseline_latent_2_lr_3e-05_b_1_the_best.index’ saved [6112/6112]\n",
      "\n",
      "--2022-12-10 19:42:45--  https://www.dropbox.com/s/mgldawvoqv6tfmb/baseline_latent_2_lr_3e-05_b_1_the_best.data-00000-of-00001\n",
      "Resolving www.dropbox.com (www.dropbox.com)... 162.125.5.18\n",
      "Connecting to www.dropbox.com (www.dropbox.com)|162.125.5.18|:443... connected.\n",
      "HTTP request sent, awaiting response... 302 Found\n",
      "Location: /s/raw/mgldawvoqv6tfmb/baseline_latent_2_lr_3e-05_b_1_the_best.data-00000-of-00001 [following]\n",
      "--2022-12-10 19:42:45--  https://www.dropbox.com/s/raw/mgldawvoqv6tfmb/baseline_latent_2_lr_3e-05_b_1_the_best.data-00000-of-00001\n",
      "Reusing existing connection to www.dropbox.com:443.\n",
      "HTTP request sent, awaiting response... 302 Found\n",
      "Location: https://ucdbc288c9ed04f3826b3f25d4e8.dl.dropboxusercontent.com/cd/0/inline/ByYDia6hSPbpYIZBH9JqvquiPFxBTanH85x483IaDmV7ZPuiGkX9uV2yxyVZfI6NPrUQkXGCoVoaPf4KIyH2RyvIlYw0NVzhQLOFJQHIXQB_8U9eBoYyyLgkPYugNpylngLG6fQcBRAKckei9PAxMnYPXfUR5l69H6DDIdfL3Ls2hA/file# [following]\n",
      "--2022-12-10 19:42:46--  https://ucdbc288c9ed04f3826b3f25d4e8.dl.dropboxusercontent.com/cd/0/inline/ByYDia6hSPbpYIZBH9JqvquiPFxBTanH85x483IaDmV7ZPuiGkX9uV2yxyVZfI6NPrUQkXGCoVoaPf4KIyH2RyvIlYw0NVzhQLOFJQHIXQB_8U9eBoYyyLgkPYugNpylngLG6fQcBRAKckei9PAxMnYPXfUR5l69H6DDIdfL3Ls2hA/file\n",
      "Resolving ucdbc288c9ed04f3826b3f25d4e8.dl.dropboxusercontent.com (ucdbc288c9ed04f3826b3f25d4e8.dl.dropboxusercontent.com)... 162.125.5.15\n",
      "Connecting to ucdbc288c9ed04f3826b3f25d4e8.dl.dropboxusercontent.com (ucdbc288c9ed04f3826b3f25d4e8.dl.dropboxusercontent.com)|162.125.5.15|:443... connected.\n",
      "HTTP request sent, awaiting response... 302 Found\n",
      "Location: /cd/0/inline2/ByYuf4jIWFCTmm8PbiA0rtUJC63Tw_-WHpJWvq1M7u33AaAWr73-d5IWcoRQYl5lUP1avzTew0Ql86gYD3URsQZOohxLJQamICQuHr76GlbqP8XG2nw-Kefj_BEFQbzUMOtDIdH4nP22JeGcuKS6Um3qdhr9IGIv3j82gK8NpxNHauL3VmaTOjjVGufLWED_HvIR_IMt6TfXJp6u52vq0yjHSbBY4U25fD2WWyB5OELf6cx8ymwpPSu0iH1Tr7mF9f-vRf9TdogYPdoZIaozXvpPfUpOnAkb0cQSTZ9Ez5ii8XKQqWebeHcT2BQDfW2iUVHuDxPsZBRspmn9Y2ICmGUm4uDXdzPv7S2rrN1LKAQVd1Q6KzXs35OtL9SYrSaqXdYXm-sNDC5FIKd7WQ4-YQgn0jr1AMEh77TyutS1WQMCBw/file [following]\n",
      "--2022-12-10 19:42:48--  https://ucdbc288c9ed04f3826b3f25d4e8.dl.dropboxusercontent.com/cd/0/inline2/ByYuf4jIWFCTmm8PbiA0rtUJC63Tw_-WHpJWvq1M7u33AaAWr73-d5IWcoRQYl5lUP1avzTew0Ql86gYD3URsQZOohxLJQamICQuHr76GlbqP8XG2nw-Kefj_BEFQbzUMOtDIdH4nP22JeGcuKS6Um3qdhr9IGIv3j82gK8NpxNHauL3VmaTOjjVGufLWED_HvIR_IMt6TfXJp6u52vq0yjHSbBY4U25fD2WWyB5OELf6cx8ymwpPSu0iH1Tr7mF9f-vRf9TdogYPdoZIaozXvpPfUpOnAkb0cQSTZ9Ez5ii8XKQqWebeHcT2BQDfW2iUVHuDxPsZBRspmn9Y2ICmGUm4uDXdzPv7S2rrN1LKAQVd1Q6KzXs35OtL9SYrSaqXdYXm-sNDC5FIKd7WQ4-YQgn0jr1AMEh77TyutS1WQMCBw/file\n",
      "Reusing existing connection to ucdbc288c9ed04f3826b3f25d4e8.dl.dropboxusercontent.com:443.\n",
      "HTTP request sent, awaiting response... 200 OK\n",
      "Length: 68258188 (65M) [application/octet-stream]\n",
      "Saving to: ‘results/baseline/model_weights/baseline_latent_2_lr_3e-05_b_1_the_best.data-00000-of-00001’\n",
      "\n",
      "results/baseline/mo 100%[===================>]  65.10M  21.9MB/s    in 3.0s    \n",
      "\n",
      "2022-12-10 19:42:51 (21.9 MB/s) - ‘results/baseline/model_weights/baseline_latent_2_lr_3e-05_b_1_the_best.data-00000-of-00001’ saved [68258188/68258188]\n",
      "\n"
     ]
    }
   ],
   "source": [
    "!wget -O results/baseline/model_weights/baseline_latent_2_lr_3e-05_b_1_the_best.index https://www.dropbox.com/s/x6n4c8k0eq9t68h/baseline_latent_2_lr_3e-05_b_1_the_best.index\n",
    "!wget -O results/baseline/model_weights/baseline_latent_2_lr_3e-05_b_1_the_best.data-00000-of-00001 https://www.dropbox.com/s/mgldawvoqv6tfmb/baseline_latent_2_lr_3e-05_b_1_the_best.data-00000-of-00001"
   ]
  },
  {
   "attachments": {},
   "cell_type": "markdown",
   "metadata": {},
   "source": [
    "## Modelo baseline Hyperbolico"
   ]
  },
  {
   "cell_type": "code",
   "execution_count": 9,
   "metadata": {},
   "outputs": [
    {
     "name": "stdout",
     "output_type": "stream",
     "text": [
      "--2022-12-10 19:42:51--  https://www.dropbox.com/s/jncdm9b58uwqo93/baseline_hyperbolic_latent_2_lr_3e-05_b_1_the_best.index\n",
      "Resolving www.dropbox.com (www.dropbox.com)... 162.125.5.18\n",
      "Connecting to www.dropbox.com (www.dropbox.com)|162.125.5.18|:443... connected.\n",
      "HTTP request sent, awaiting response... 302 Found\n",
      "Location: /s/raw/jncdm9b58uwqo93/baseline_hyperbolic_latent_2_lr_3e-05_b_1_the_best.index [following]\n",
      "--2022-12-10 19:42:52--  https://www.dropbox.com/s/raw/jncdm9b58uwqo93/baseline_hyperbolic_latent_2_lr_3e-05_b_1_the_best.index\n",
      "Reusing existing connection to www.dropbox.com:443.\n",
      "HTTP request sent, awaiting response... 302 Found\n",
      "Location: https://uca2977941125a92ec64afcd452c.dl.dropboxusercontent.com/cd/0/inline/ByaUVScer5ZoW2OFez7uefDAQuKxwpl59AnxHaOAgrJQIw0cL3F7i1xREwKUekReFXalbr11tTkcwEfha3vAXC-CUY5-cm2Viy7Pjq5z1HN1Bi6qxYbpcV8JQ_YWwfh-8TdyyqLlZodc7c3CQF08ZnbakIuu7HFuU6zfrGpzIkf5Dg/file# [following]\n",
      "--2022-12-10 19:42:52--  https://uca2977941125a92ec64afcd452c.dl.dropboxusercontent.com/cd/0/inline/ByaUVScer5ZoW2OFez7uefDAQuKxwpl59AnxHaOAgrJQIw0cL3F7i1xREwKUekReFXalbr11tTkcwEfha3vAXC-CUY5-cm2Viy7Pjq5z1HN1Bi6qxYbpcV8JQ_YWwfh-8TdyyqLlZodc7c3CQF08ZnbakIuu7HFuU6zfrGpzIkf5Dg/file\n",
      "Resolving uca2977941125a92ec64afcd452c.dl.dropboxusercontent.com (uca2977941125a92ec64afcd452c.dl.dropboxusercontent.com)... 162.125.5.15\n",
      "Connecting to uca2977941125a92ec64afcd452c.dl.dropboxusercontent.com (uca2977941125a92ec64afcd452c.dl.dropboxusercontent.com)|162.125.5.15|:443... connected.\n",
      "HTTP request sent, awaiting response... 302 Found\n",
      "Location: /cd/0/inline2/ByYBWarlCvU1KwV7NNJ1lC961ffWEOLd7rN4OJkpNdFAfGVM3PX1eYm7gu6kBsHQW_vOCOiLaGQhjU1LpsS4fFfRGbYYyhkk6Lz-r_jMIHxDZNC62R0-YDVy3VgbCTVcDmu4HuSU8GGCXpl5qkhqUm7aJBkmJ5Jof7a4CvwC7WfoQCGk2fAIKeEYX2654fZ4xW4y1lKVCDor7WO6K7iT5a3G2i-Q1rPK2lLW3nzcmw4uHRmi-isoF62hTCW_9IMDAVVWt4CyWJNLfkuyyvua6EtOF8VF7KMlXKQuoJ_SIe1PxZtExvcoapWglDB7xK7NT9-eWqNXPQMkzI9qKGNnV0JbqSwZ0CryV31Q1FDLTGAOtW85BQQXy3Y3TS7gFgZBXvH55Iteq1p7a-J0N_MTN3fy6TUlTZEL1ElUDaoJ2hNj3Q/file [following]\n",
      "--2022-12-10 19:42:53--  https://uca2977941125a92ec64afcd452c.dl.dropboxusercontent.com/cd/0/inline2/ByYBWarlCvU1KwV7NNJ1lC961ffWEOLd7rN4OJkpNdFAfGVM3PX1eYm7gu6kBsHQW_vOCOiLaGQhjU1LpsS4fFfRGbYYyhkk6Lz-r_jMIHxDZNC62R0-YDVy3VgbCTVcDmu4HuSU8GGCXpl5qkhqUm7aJBkmJ5Jof7a4CvwC7WfoQCGk2fAIKeEYX2654fZ4xW4y1lKVCDor7WO6K7iT5a3G2i-Q1rPK2lLW3nzcmw4uHRmi-isoF62hTCW_9IMDAVVWt4CyWJNLfkuyyvua6EtOF8VF7KMlXKQuoJ_SIe1PxZtExvcoapWglDB7xK7NT9-eWqNXPQMkzI9qKGNnV0JbqSwZ0CryV31Q1FDLTGAOtW85BQQXy3Y3TS7gFgZBXvH55Iteq1p7a-J0N_MTN3fy6TUlTZEL1ElUDaoJ2hNj3Q/file\n",
      "Reusing existing connection to uca2977941125a92ec64afcd452c.dl.dropboxusercontent.com:443.\n",
      "HTTP request sent, awaiting response... 200 OK\n",
      "Length: 6340 (6.2K) [application/octet-stream]\n",
      "Saving to: ‘results/baseline_hyp/model_weights/baseline_hyperbolic_latent_2_lr_3e-05_b_1_the_best.index’\n",
      "\n",
      "results/baseline_hy 100%[===================>]   6.19K  --.-KB/s    in 0s      \n",
      "\n",
      "2022-12-10 19:42:54 (5.90 GB/s) - ‘results/baseline_hyp/model_weights/baseline_hyperbolic_latent_2_lr_3e-05_b_1_the_best.index’ saved [6340/6340]\n",
      "\n",
      "--2022-12-10 19:42:54--  https://www.dropbox.com/s/yjg1l77ymndkwpg/baseline_hyperbolic_latent_2_lr_3e-05_b_1_the_best.data-00000-of-00001\n",
      "Resolving www.dropbox.com (www.dropbox.com)... 162.125.5.18\n",
      "Connecting to www.dropbox.com (www.dropbox.com)|162.125.5.18|:443... connected.\n",
      "HTTP request sent, awaiting response... 302 Found\n",
      "Location: /s/raw/yjg1l77ymndkwpg/baseline_hyperbolic_latent_2_lr_3e-05_b_1_the_best.data-00000-of-00001 [following]\n",
      "--2022-12-10 19:42:54--  https://www.dropbox.com/s/raw/yjg1l77ymndkwpg/baseline_hyperbolic_latent_2_lr_3e-05_b_1_the_best.data-00000-of-00001\n",
      "Reusing existing connection to www.dropbox.com:443.\n",
      "HTTP request sent, awaiting response... 302 Found\n",
      "Location: https://ucff8d8d39ffce0fdb216792dee4.dl.dropboxusercontent.com/cd/0/inline/ByZp3aXNUJfbNSgYtPC2jaf041UpMmikCSeAlT5tFnARAJzTtI7gJa5Qf-7ZYsb7BvNBcnFu2QjRXX0uaI6VjO31IEE3AxbQfS5_FD3POdOGsCSI37CtKofSvpF4DSQVcUiXf3aKNR9Co91BcNh-0NLanG4doTukFf-qoaAfbfxrhA/file# [following]\n",
      "--2022-12-10 19:42:55--  https://ucff8d8d39ffce0fdb216792dee4.dl.dropboxusercontent.com/cd/0/inline/ByZp3aXNUJfbNSgYtPC2jaf041UpMmikCSeAlT5tFnARAJzTtI7gJa5Qf-7ZYsb7BvNBcnFu2QjRXX0uaI6VjO31IEE3AxbQfS5_FD3POdOGsCSI37CtKofSvpF4DSQVcUiXf3aKNR9Co91BcNh-0NLanG4doTukFf-qoaAfbfxrhA/file\n",
      "Resolving ucff8d8d39ffce0fdb216792dee4.dl.dropboxusercontent.com (ucff8d8d39ffce0fdb216792dee4.dl.dropboxusercontent.com)... 162.125.5.15\n",
      "Connecting to ucff8d8d39ffce0fdb216792dee4.dl.dropboxusercontent.com (ucff8d8d39ffce0fdb216792dee4.dl.dropboxusercontent.com)|162.125.5.15|:443... connected.\n",
      "HTTP request sent, awaiting response... 302 Found\n",
      "Location: /cd/0/inline2/ByZrFYUQaMsxQxRMEqEgh86101ulqlKXDJomwc2fGJ7wiqfYpdXMNvL0zvr4p14P68foRh5s9Rcu9OmgXOasS41BALOfJfynj8HGMDZE8Sz9Htqsq6-U2T89sEldVeXr0KSQKNLQbfpwBbIkhLigjvCKe_m4o2Wz9Gf2ceGczCZS9l-9FCZ114cxzWdSdBb9oYqjP4y-u-gS4mIG1AVAt7Axbi_EN3S2Y9c7k_7ejm4GskXIfipmn8rmRtqMoXVUlhZ3ZwG8gP0WkflNKW5PRipIOHbZ5EQQ71Mkd0jknl33gYJw9Ln2MEE6aGy0rcHisiPW7U1qLCIw-HkLf0YF6TOgMwypOPIGBfP6rC6CrzYmJMMtJn725oqQZGMP1EyAOkUYvRNz_Jd-stDhbm3s-hAcxJiaUww6p2nnSbJpjS9gJw/file [following]\n",
      "--2022-12-10 19:42:56--  https://ucff8d8d39ffce0fdb216792dee4.dl.dropboxusercontent.com/cd/0/inline2/ByZrFYUQaMsxQxRMEqEgh86101ulqlKXDJomwc2fGJ7wiqfYpdXMNvL0zvr4p14P68foRh5s9Rcu9OmgXOasS41BALOfJfynj8HGMDZE8Sz9Htqsq6-U2T89sEldVeXr0KSQKNLQbfpwBbIkhLigjvCKe_m4o2Wz9Gf2ceGczCZS9l-9FCZ114cxzWdSdBb9oYqjP4y-u-gS4mIG1AVAt7Axbi_EN3S2Y9c7k_7ejm4GskXIfipmn8rmRtqMoXVUlhZ3ZwG8gP0WkflNKW5PRipIOHbZ5EQQ71Mkd0jknl33gYJw9Ln2MEE6aGy0rcHisiPW7U1qLCIw-HkLf0YF6TOgMwypOPIGBfP6rC6CrzYmJMMtJn725oqQZGMP1EyAOkUYvRNz_Jd-stDhbm3s-hAcxJiaUww6p2nnSbJpjS9gJw/file\n",
      "Reusing existing connection to ucff8d8d39ffce0fdb216792dee4.dl.dropboxusercontent.com:443.\n",
      "HTTP request sent, awaiting response... 200 OK\n",
      "Length: 68267024 (65M) [application/octet-stream]\n",
      "Saving to: ‘results/baseline_hyp/model_weights/baseline_hyperbolic_latent_2_lr_3e-05_b_1_the_best.data-00000-of-00001’\n",
      "\n",
      "results/baseline_hy 100%[===================>]  65.10M  23.8MB/s    in 2.7s    \n",
      "\n",
      "2022-12-10 19:43:00 (23.8 MB/s) - ‘results/baseline_hyp/model_weights/baseline_hyperbolic_latent_2_lr_3e-05_b_1_the_best.data-00000-of-00001’ saved [68267024/68267024]\n",
      "\n"
     ]
    }
   ],
   "source": [
    "\n",
    "\n",
    "!wget -O results/baseline_hyp/model_weights/baseline_hyperbolic_latent_2_lr_3e-05_b_1_the_best.index https://www.dropbox.com/s/jncdm9b58uwqo93/baseline_hyperbolic_latent_2_lr_3e-05_b_1_the_best.index\n",
    "!wget -O results/baseline_hyp/model_weights/baseline_hyperbolic_latent_2_lr_3e-05_b_1_the_best.data-00000-of-00001 https://www.dropbox.com/s/yjg1l77ymndkwpg/baseline_hyperbolic_latent_2_lr_3e-05_b_1_the_best.data-00000-of-00001\n"
   ]
  },
  {
   "attachments": {},
   "cell_type": "markdown",
   "metadata": {},
   "source": [
    "##  Breguel model\n"
   ]
  },
  {
   "cell_type": "code",
   "execution_count": 10,
   "metadata": {},
   "outputs": [
    {
     "name": "stdout",
     "output_type": "stream",
     "text": [
      "--2022-12-10 19:43:00--  https://www.dropbox.com/s/vdxggzjyl76niiv/breguel_model_latent_2_lr_3e-05_b_1_the_best.index\n",
      "Resolving www.dropbox.com (www.dropbox.com)... 162.125.5.18\n",
      "Connecting to www.dropbox.com (www.dropbox.com)|162.125.5.18|:443... connected.\n",
      "HTTP request sent, awaiting response... 302 Found\n",
      "Location: /s/raw/vdxggzjyl76niiv/breguel_model_latent_2_lr_3e-05_b_1_the_best.index [following]\n",
      "--2022-12-10 19:43:01--  https://www.dropbox.com/s/raw/vdxggzjyl76niiv/breguel_model_latent_2_lr_3e-05_b_1_the_best.index\n",
      "Reusing existing connection to www.dropbox.com:443.\n",
      "HTTP request sent, awaiting response... 302 Found\n",
      "Location: https://uc94a7744e5e791d49bc8ccbc6c7.dl.dropboxusercontent.com/cd/0/inline/ByZiLOyCibVtaH6y_AjgZ3hhvUMiw1_uN41D2CcBxd8gElkk6H7D_dTpC4RnM8emrdrN7UdNGaauba1HTAuMfqhDSEZLy5bNbWElntrUTaoZFDLTwRwvR7Xaf2JDKDAQDrwE4ChyUKMz_K5FiR5wHNZS63a8Bj8KP1KQ3N61YnmErw/file# [following]\n",
      "--2022-12-10 19:43:01--  https://uc94a7744e5e791d49bc8ccbc6c7.dl.dropboxusercontent.com/cd/0/inline/ByZiLOyCibVtaH6y_AjgZ3hhvUMiw1_uN41D2CcBxd8gElkk6H7D_dTpC4RnM8emrdrN7UdNGaauba1HTAuMfqhDSEZLy5bNbWElntrUTaoZFDLTwRwvR7Xaf2JDKDAQDrwE4ChyUKMz_K5FiR5wHNZS63a8Bj8KP1KQ3N61YnmErw/file\n",
      "Resolving uc94a7744e5e791d49bc8ccbc6c7.dl.dropboxusercontent.com (uc94a7744e5e791d49bc8ccbc6c7.dl.dropboxusercontent.com)... 162.125.5.15\n",
      "Connecting to uc94a7744e5e791d49bc8ccbc6c7.dl.dropboxusercontent.com (uc94a7744e5e791d49bc8ccbc6c7.dl.dropboxusercontent.com)|162.125.5.15|:443... connected.\n",
      "HTTP request sent, awaiting response... 302 Found\n",
      "Location: /cd/0/inline2/BybxUCH4yvLSlFPj2ZBPSvTBs6PvLq9yDsgNjiKu3haJfmIFG1TzberpttpBNYPNwF6SZ3fejHYo5pUcNn9hd9qFYkANzxDrI0OT8AdMHmvY45dfxS5R5spkkQb3VSiimVs4rvuUNXg51WgdYIoUDDPkJUpfH3e6OU81TbAwi1Xl_t8Jf2HgNcXySUB4SYX25tmhVnXemDZuqJA7YoMNhtfHPP8fmeNBIgeWqlK31qFTnFSPRW0AGCVeihIx7zMp-YtxyDuHWZrbszc7eIspOxbpViVuO6lqotks6fpTA0w0vr_QuE9lEh2nlLNY0f1fc5iBtrUfphc99prSVSr_iHxjbkNKQM1WRsJnwMcEqBZZ3t4oO1RNFyqSRIvLa3i5ZKK3RV8UuWPzYRXBA9wHjQTRITB3cOleTDdMSP-lJ5k4Ug/file [following]\n",
      "--2022-12-10 19:43:02--  https://uc94a7744e5e791d49bc8ccbc6c7.dl.dropboxusercontent.com/cd/0/inline2/BybxUCH4yvLSlFPj2ZBPSvTBs6PvLq9yDsgNjiKu3haJfmIFG1TzberpttpBNYPNwF6SZ3fejHYo5pUcNn9hd9qFYkANzxDrI0OT8AdMHmvY45dfxS5R5spkkQb3VSiimVs4rvuUNXg51WgdYIoUDDPkJUpfH3e6OU81TbAwi1Xl_t8Jf2HgNcXySUB4SYX25tmhVnXemDZuqJA7YoMNhtfHPP8fmeNBIgeWqlK31qFTnFSPRW0AGCVeihIx7zMp-YtxyDuHWZrbszc7eIspOxbpViVuO6lqotks6fpTA0w0vr_QuE9lEh2nlLNY0f1fc5iBtrUfphc99prSVSr_iHxjbkNKQM1WRsJnwMcEqBZZ3t4oO1RNFyqSRIvLa3i5ZKK3RV8UuWPzYRXBA9wHjQTRITB3cOleTDdMSP-lJ5k4Ug/file\n",
      "Reusing existing connection to uc94a7744e5e791d49bc8ccbc6c7.dl.dropboxusercontent.com:443.\n",
      "HTTP request sent, awaiting response... 200 OK\n",
      "Length: 6503 (6.4K) [application/octet-stream]\n",
      "Saving to: ‘results/breguel_model/model_weights/breguel_model_latent_2_lr_3e-05_b_1_the_best.index’\n",
      "\n",
      "results/breguel_mod 100%[===================>]   6.35K  --.-KB/s    in 0s      \n",
      "\n",
      "2022-12-10 19:43:02 (6.06 GB/s) - ‘results/breguel_model/model_weights/breguel_model_latent_2_lr_3e-05_b_1_the_best.index’ saved [6503/6503]\n",
      "\n",
      "--2022-12-10 19:43:02--  https://www.dropbox.com/s/wpnumej64mc290d/breguel_model_latent_2_lr_3e-05_b_1_the_best.data-00000-of-00001\n",
      "Resolving www.dropbox.com (www.dropbox.com)... 162.125.5.18\n",
      "Connecting to www.dropbox.com (www.dropbox.com)|162.125.5.18|:443... connected.\n",
      "HTTP request sent, awaiting response... 302 Found\n",
      "Location: /s/raw/wpnumej64mc290d/breguel_model_latent_2_lr_3e-05_b_1_the_best.data-00000-of-00001 [following]\n",
      "--2022-12-10 19:43:03--  https://www.dropbox.com/s/raw/wpnumej64mc290d/breguel_model_latent_2_lr_3e-05_b_1_the_best.data-00000-of-00001\n",
      "Reusing existing connection to www.dropbox.com:443.\n",
      "HTTP request sent, awaiting response... 302 Found\n",
      "Location: https://uc1e214f449ab0e2faf4d60c11a9.dl.dropboxusercontent.com/cd/0/inline/ByZIXzf4SXmPurznEwDS5zDSzu5UNeHiFXVhCnrnLjprP30s9-KjaDEu8q3nqox6jx9YOrxox39hmUfkq1mNDZ-i0Cs1RJwodEesfKsoQyCNRXM7hmAwWz4a-svMJkD4yesikgVs0bEQOf9pLDA6IQhvc1yv0N2tedncviKfVW-nQA/file# [following]\n",
      "--2022-12-10 19:43:03--  https://uc1e214f449ab0e2faf4d60c11a9.dl.dropboxusercontent.com/cd/0/inline/ByZIXzf4SXmPurznEwDS5zDSzu5UNeHiFXVhCnrnLjprP30s9-KjaDEu8q3nqox6jx9YOrxox39hmUfkq1mNDZ-i0Cs1RJwodEesfKsoQyCNRXM7hmAwWz4a-svMJkD4yesikgVs0bEQOf9pLDA6IQhvc1yv0N2tedncviKfVW-nQA/file\n",
      "Resolving uc1e214f449ab0e2faf4d60c11a9.dl.dropboxusercontent.com (uc1e214f449ab0e2faf4d60c11a9.dl.dropboxusercontent.com)... 162.125.5.15\n",
      "Connecting to uc1e214f449ab0e2faf4d60c11a9.dl.dropboxusercontent.com (uc1e214f449ab0e2faf4d60c11a9.dl.dropboxusercontent.com)|162.125.5.15|:443... connected.\n",
      "HTTP request sent, awaiting response... 302 Found\n",
      "Location: /cd/0/inline2/BybGndmNaSnS5ie_kWybs1HQAqfiIHOW4BlDhKHl4wj2vB7ziDN8ikS-rM9ISO3SefksuDzHoaC31TrsWA-qC9Cm-YPT3R43WY21Xd3BS93BcBxjfi85moRT3q-crmWYEyCBb1u0_lS7DdUBmCwZC7HKZ2VozUYarjwCTmK05cfeBZ7hBopMK6s0XFuOEkKbXkdMSBL6fp8pV0NP5L1ezMIqvAMbC12E0hyo4cZ4_jyEnqg3iWkmw-ZyqQR4skE-CAPgHyyLUrVpdWYOTLZCyMPEgP-wGngQNNZBzQRMthqIUKMdNbzqOYSCXmamsiV3088w3LufjQiqDjo_r2ZlBXFfP1XSGN2i9Szxu7EyNA0OyIzSEEd5sOoUCG0VpMm8yTXkJ1y_n5ui_-ks0e3EZTftoy_UL_3eQ897LR4UYAXwWA/file [following]\n",
      "--2022-12-10 19:43:04--  https://uc1e214f449ab0e2faf4d60c11a9.dl.dropboxusercontent.com/cd/0/inline2/BybGndmNaSnS5ie_kWybs1HQAqfiIHOW4BlDhKHl4wj2vB7ziDN8ikS-rM9ISO3SefksuDzHoaC31TrsWA-qC9Cm-YPT3R43WY21Xd3BS93BcBxjfi85moRT3q-crmWYEyCBb1u0_lS7DdUBmCwZC7HKZ2VozUYarjwCTmK05cfeBZ7hBopMK6s0XFuOEkKbXkdMSBL6fp8pV0NP5L1ezMIqvAMbC12E0hyo4cZ4_jyEnqg3iWkmw-ZyqQR4skE-CAPgHyyLUrVpdWYOTLZCyMPEgP-wGngQNNZBzQRMthqIUKMdNbzqOYSCXmamsiV3088w3LufjQiqDjo_r2ZlBXFfP1XSGN2i9Szxu7EyNA0OyIzSEEd5sOoUCG0VpMm8yTXkJ1y_n5ui_-ks0e3EZTftoy_UL_3eQ897LR4UYAXwWA/file\n",
      "Reusing existing connection to uc1e214f449ab0e2faf4d60c11a9.dl.dropboxusercontent.com:443.\n",
      "HTTP request sent, awaiting response... 200 OK\n",
      "Length: 120960452 (115M) [application/octet-stream]\n",
      "Saving to: ‘results/breguel_model/model_weights/breguel_model_latent_2_lr_3e-05_b_1_the_best.data-00000-of-00001’\n",
      "\n",
      "results/breguel_mod 100%[===================>] 115.36M  28.8MB/s    in 5.0s    \n",
      "\n",
      "2022-12-10 19:43:10 (23.3 MB/s) - ‘results/breguel_model/model_weights/breguel_model_latent_2_lr_3e-05_b_1_the_best.data-00000-of-00001’ saved [120960452/120960452]\n",
      "\n"
     ]
    }
   ],
   "source": [
    "!wget -O results/breguel_model/model_weights/breguel_model_latent_2_lr_3e-05_b_1_the_best.index https://www.dropbox.com/s/vdxggzjyl76niiv/breguel_model_latent_2_lr_3e-05_b_1_the_best.index\n",
    "!wget -O results/breguel_model/model_weights/breguel_model_latent_2_lr_3e-05_b_1_the_best.data-00000-of-00001 https://www.dropbox.com/s/wpnumej64mc290d/breguel_model_latent_2_lr_3e-05_b_1_the_best.data-00000-of-00001"
   ]
  },
  {
   "attachments": {},
   "cell_type": "markdown",
   "metadata": {},
   "source": [
    "## Mircea model"
   ]
  },
  {
   "cell_type": "code",
   "execution_count": 11,
   "metadata": {},
   "outputs": [
    {
     "name": "stdout",
     "output_type": "stream",
     "text": [
      "--2022-12-10 19:43:10--  https://www.dropbox.com/s/83fuwtawrcc3br6/mircea_model_latent_2_lr_3e-05_b_1_the_best.index\n",
      "Resolving www.dropbox.com (www.dropbox.com)... 162.125.5.18\n",
      "Connecting to www.dropbox.com (www.dropbox.com)|162.125.5.18|:443... connected.\n",
      "HTTP request sent, awaiting response... 302 Found\n",
      "Location: /s/raw/83fuwtawrcc3br6/mircea_model_latent_2_lr_3e-05_b_1_the_best.index [following]\n",
      "--2022-12-10 19:43:11--  https://www.dropbox.com/s/raw/83fuwtawrcc3br6/mircea_model_latent_2_lr_3e-05_b_1_the_best.index\n",
      "Reusing existing connection to www.dropbox.com:443.\n",
      "HTTP request sent, awaiting response... 302 Found\n",
      "Location: https://ucc17b6a89510da32047a90e5353.dl.dropboxusercontent.com/cd/0/inline/BybpV8-4KctM9uRGQh1OVNvV-roYqLU0KhbQAD_46OZr3ViFEUa72HJ7fKqbYuRj11wkM652wI6HqswOZ-fLrJzqVmKap-Qd3mk6Uz-PMntJ3_b04s_m6IVfeKkXnUzwA-xCd9nR-qck_-Mhs1XYAr6OJoksb93kppRJRrH_pKzoxg/file# [following]\n",
      "--2022-12-10 19:43:12--  https://ucc17b6a89510da32047a90e5353.dl.dropboxusercontent.com/cd/0/inline/BybpV8-4KctM9uRGQh1OVNvV-roYqLU0KhbQAD_46OZr3ViFEUa72HJ7fKqbYuRj11wkM652wI6HqswOZ-fLrJzqVmKap-Qd3mk6Uz-PMntJ3_b04s_m6IVfeKkXnUzwA-xCd9nR-qck_-Mhs1XYAr6OJoksb93kppRJRrH_pKzoxg/file\n",
      "Resolving ucc17b6a89510da32047a90e5353.dl.dropboxusercontent.com (ucc17b6a89510da32047a90e5353.dl.dropboxusercontent.com)... 162.125.5.15\n",
      "Connecting to ucc17b6a89510da32047a90e5353.dl.dropboxusercontent.com (ucc17b6a89510da32047a90e5353.dl.dropboxusercontent.com)|162.125.5.15|:443... connected.\n",
      "HTTP request sent, awaiting response... 302 Found\n",
      "Location: /cd/0/inline2/BybcT-JUtqrcHYlFkrDJsLIXDP_qm-TzcDU3maiUM7wwxwg8ogVW0f_2d4BV2ln6nXxOSDPz47M2XjALzvNrgcAIJBNXiIV75LLIx5v2TD8F8NtrQTt2C0DW98jxOKdMc1e0uT76pSDOZ6g8IDbwOrakDOM2UJOftOygS_ojWjvHHZI6VI69ZA6Ic6j3MBkySgyY5hBFzxZOu_m2rwYWT0HcnnIB4hNwks5rS9imRLMl-C_jgklsWCJsnpMjz0WHeg0CzliWLOKWFQLsQjC5WpX597Z77HQQpVq1JnPejF6swBPVKOoppLSePxXSWNNScrGf-AZWaDmt5pTAii9QA8pDlQZm8Ih5buwwKklXc8iS-q3Gw29CAFTSOw2JVdqDLN1Y70B1yIXLYI9Q5i0fe4p3iIVYZFjRYBQzjhgoWpRjQw/file [following]\n",
      "--2022-12-10 19:43:12--  https://ucc17b6a89510da32047a90e5353.dl.dropboxusercontent.com/cd/0/inline2/BybcT-JUtqrcHYlFkrDJsLIXDP_qm-TzcDU3maiUM7wwxwg8ogVW0f_2d4BV2ln6nXxOSDPz47M2XjALzvNrgcAIJBNXiIV75LLIx5v2TD8F8NtrQTt2C0DW98jxOKdMc1e0uT76pSDOZ6g8IDbwOrakDOM2UJOftOygS_ojWjvHHZI6VI69ZA6Ic6j3MBkySgyY5hBFzxZOu_m2rwYWT0HcnnIB4hNwks5rS9imRLMl-C_jgklsWCJsnpMjz0WHeg0CzliWLOKWFQLsQjC5WpX597Z77HQQpVq1JnPejF6swBPVKOoppLSePxXSWNNScrGf-AZWaDmt5pTAii9QA8pDlQZm8Ih5buwwKklXc8iS-q3Gw29CAFTSOw2JVdqDLN1Y70B1yIXLYI9Q5i0fe4p3iIVYZFjRYBQzjhgoWpRjQw/file\n",
      "Reusing existing connection to ucc17b6a89510da32047a90e5353.dl.dropboxusercontent.com:443.\n",
      "HTTP request sent, awaiting response... 200 OK\n",
      "Length: 6195 (6.0K) [application/octet-stream]\n",
      "Saving to: ‘results/mircea_model/model_weights/mircea_model_latent_2_lr_3e-05_b_1_the_best.index’\n",
      "\n",
      "results/mircea_mode 100%[===================>]   6.05K  --.-KB/s    in 0s      \n",
      "\n",
      "2022-12-10 19:43:13 (1.92 GB/s) - ‘results/mircea_model/model_weights/mircea_model_latent_2_lr_3e-05_b_1_the_best.index’ saved [6195/6195]\n",
      "\n",
      "--2022-12-10 19:43:13--  https://www.dropbox.com/s/p2kaizm4pwyqkr6/mircea_model_latent_2_lr_3e-05_b_1_the_best.data-00000-of-00001\n",
      "Resolving www.dropbox.com (www.dropbox.com)... 162.125.5.18\n",
      "Connecting to www.dropbox.com (www.dropbox.com)|162.125.5.18|:443... connected.\n",
      "HTTP request sent, awaiting response... 302 Found\n",
      "Location: /s/raw/p2kaizm4pwyqkr6/mircea_model_latent_2_lr_3e-05_b_1_the_best.data-00000-of-00001 [following]\n",
      "--2022-12-10 19:43:14--  https://www.dropbox.com/s/raw/p2kaizm4pwyqkr6/mircea_model_latent_2_lr_3e-05_b_1_the_best.data-00000-of-00001\n",
      "Reusing existing connection to www.dropbox.com:443.\n",
      "HTTP request sent, awaiting response... 302 Found\n",
      "Location: https://uc0c59e5122bcfefd01d9d961d44.dl.dropboxusercontent.com/cd/0/inline/Bybd9EQulQjb7W4x-0O_mX5eGdb2vktV9BmnyYI9eCch6v6aRpO1_gZ0DrAJIUHqptjpE6H4cnbWKC6H6VlQqU-Nygewfz7HPex9qo1LKSoLGFKU8f2c9hXEUS5WDWSFA5mnmf51pOlpziJ3daT8k-UnX-g_i202RVIWBA77dALDaQ/file# [following]\n",
      "--2022-12-10 19:43:14--  https://uc0c59e5122bcfefd01d9d961d44.dl.dropboxusercontent.com/cd/0/inline/Bybd9EQulQjb7W4x-0O_mX5eGdb2vktV9BmnyYI9eCch6v6aRpO1_gZ0DrAJIUHqptjpE6H4cnbWKC6H6VlQqU-Nygewfz7HPex9qo1LKSoLGFKU8f2c9hXEUS5WDWSFA5mnmf51pOlpziJ3daT8k-UnX-g_i202RVIWBA77dALDaQ/file\n",
      "Resolving uc0c59e5122bcfefd01d9d961d44.dl.dropboxusercontent.com (uc0c59e5122bcfefd01d9d961d44.dl.dropboxusercontent.com)... 162.125.5.15\n",
      "Connecting to uc0c59e5122bcfefd01d9d961d44.dl.dropboxusercontent.com (uc0c59e5122bcfefd01d9d961d44.dl.dropboxusercontent.com)|162.125.5.15|:443... connected.\n",
      "HTTP request sent, awaiting response... 302 Found\n",
      "Location: /cd/0/inline2/BybX3yvoCAamO2qlQKSDF4DPUSTHV2avWkDXmR_kcwShOFsmTgQ1rKPXH-0bYm4jqvWhAUwqnz_uC6AlpQICtV2oR1vCX7JILVG6Dd-xzeKfaAySE6Foc5jq1OBaiyJRfD8uqn_FhE7boAQtD_yxWeGnjRtA2bP9uAgstXVBzpNZlZenM4GiaAy7Cmxo3-qn-CSjiJp7Sp0g1vCyplrvmHZL3bV4tjJzJJWYLGpvV3gBRKyJ6gcgR7Mip5IG3cteter8t9x7FhJuKxX67w9CyOqc86IOYGlorcc_PnOW497f81cQIjWpEg_maBNdcAXqIVzNfIz2vAeLg6Wa9JEPUcYE4aNJVclu50WhHO_vknTsMbglz280SfQ04r3Joe2e65cU3PIZCZrPKoyPUpyCRf62yICsqYb_A-wBTKEUMW5gzA/file [following]\n",
      "--2022-12-10 19:43:15--  https://uc0c59e5122bcfefd01d9d961d44.dl.dropboxusercontent.com/cd/0/inline2/BybX3yvoCAamO2qlQKSDF4DPUSTHV2avWkDXmR_kcwShOFsmTgQ1rKPXH-0bYm4jqvWhAUwqnz_uC6AlpQICtV2oR1vCX7JILVG6Dd-xzeKfaAySE6Foc5jq1OBaiyJRfD8uqn_FhE7boAQtD_yxWeGnjRtA2bP9uAgstXVBzpNZlZenM4GiaAy7Cmxo3-qn-CSjiJp7Sp0g1vCyplrvmHZL3bV4tjJzJJWYLGpvV3gBRKyJ6gcgR7Mip5IG3cteter8t9x7FhJuKxX67w9CyOqc86IOYGlorcc_PnOW497f81cQIjWpEg_maBNdcAXqIVzNfIz2vAeLg6Wa9JEPUcYE4aNJVclu50WhHO_vknTsMbglz280SfQ04r3Joe2e65cU3PIZCZrPKoyPUpyCRf62yICsqYb_A-wBTKEUMW5gzA/file\n",
      "Reusing existing connection to uc0c59e5122bcfefd01d9d961d44.dl.dropboxusercontent.com:443.\n",
      "HTTP request sent, awaiting response... 200 OK\n",
      "Length: 10497223 (10M) [application/octet-stream]\n",
      "Saving to: ‘results/mircea_model/model_weights/mircea_model_latent_2_lr_3e-05_b_1_the_best.data-00000-of-00001’\n",
      "\n",
      "results/mircea_mode 100%[===================>]  10.01M  8.96MB/s    in 1.1s    \n",
      "\n",
      "2022-12-10 19:43:17 (8.96 MB/s) - ‘results/mircea_model/model_weights/mircea_model_latent_2_lr_3e-05_b_1_the_best.data-00000-of-00001’ saved [10497223/10497223]\n",
      "\n"
     ]
    }
   ],
   "source": [
    "!wget -O results/mircea_model/model_weights/mircea_model_latent_2_lr_3e-05_b_1_the_best.index https://www.dropbox.com/s/83fuwtawrcc3br6/mircea_model_latent_2_lr_3e-05_b_1_the_best.index\n",
    "!wget -O results/mircea_model/model_weights/mircea_model_latent_2_lr_3e-05_b_1_the_best.data-00000-of-00001 https://www.dropbox.com/s/p2kaizm4pwyqkr6/mircea_model_latent_2_lr_3e-05_b_1_the_best.data-00000-of-00001"
   ]
  },
  {
   "attachments": {},
   "cell_type": "markdown",
   "metadata": {},
   "source": [
    "## timbreNet + Embedding hyperbolico"
   ]
  },
  {
   "cell_type": "code",
   "execution_count": 12,
   "metadata": {},
   "outputs": [
    {
     "name": "stdout",
     "output_type": "stream",
     "text": [
      "--2022-12-10 19:43:17--  https://www.dropbox.com/s/3gg0h57boq5uhf9/Hyp%2BCNN_latent_2_lr_3e-05_b_1_the_best.index\n",
      "Resolving www.dropbox.com (www.dropbox.com)... 162.125.5.18\n",
      "Connecting to www.dropbox.com (www.dropbox.com)|162.125.5.18|:443... connected.\n",
      "HTTP request sent, awaiting response... 302 Found\n",
      "Location: /s/raw/3gg0h57boq5uhf9/Hyp%2BCNN_latent_2_lr_3e-05_b_1_the_best.index [following]\n",
      "--2022-12-10 19:43:18--  https://www.dropbox.com/s/raw/3gg0h57boq5uhf9/Hyp%2BCNN_latent_2_lr_3e-05_b_1_the_best.index\n",
      "Reusing existing connection to www.dropbox.com:443.\n",
      "HTTP request sent, awaiting response... 302 Found\n",
      "Location: https://uc1871384bb044077736191a40a5.dl.dropboxusercontent.com/cd/0/inline/ByZTLz_vpFUZ5j5_GErOXgoCKp2aLpHB71HhQxV0yExJ1xP9JHL0dUOlHMIi-bUPPfgsJ3shJ6NtlTP3ZK0wJ4PIXD1lea2drpSrK6JHbcSWAP7tt7Jzzz0EzY5jqZn4Lb0ytHo1QPyeHaoKc1IKz7C5pv8hk9RdoIYh-vcnkQ1ymg/file# [following]\n",
      "--2022-12-10 19:43:18--  https://uc1871384bb044077736191a40a5.dl.dropboxusercontent.com/cd/0/inline/ByZTLz_vpFUZ5j5_GErOXgoCKp2aLpHB71HhQxV0yExJ1xP9JHL0dUOlHMIi-bUPPfgsJ3shJ6NtlTP3ZK0wJ4PIXD1lea2drpSrK6JHbcSWAP7tt7Jzzz0EzY5jqZn4Lb0ytHo1QPyeHaoKc1IKz7C5pv8hk9RdoIYh-vcnkQ1ymg/file\n",
      "Resolving uc1871384bb044077736191a40a5.dl.dropboxusercontent.com (uc1871384bb044077736191a40a5.dl.dropboxusercontent.com)... 162.125.5.15\n",
      "Connecting to uc1871384bb044077736191a40a5.dl.dropboxusercontent.com (uc1871384bb044077736191a40a5.dl.dropboxusercontent.com)|162.125.5.15|:443... connected.\n",
      "HTTP request sent, awaiting response... 302 Found\n",
      "Location: /cd/0/inline2/ByYjErFdtUsAg2DNglmhJNXfpGmO1x6Dg5eRwx7hob9AcvML2hDBc4pvZTWhL-0SM59zuQqd05B4ofT1eLQwA_5TB8snvmqvxZJDLn0L-c_QDRefXtIlkun_vErn4Bosht2629ciVi1aYi2DGdlAlowQ4IJe6XUS7xIMGB4wTUjn71nDf-pajwDuzPgRANBjDk6O8m66MVuBXH0IbR-UWcO3S8KlYHm-erYOOTf9hwu-0G-HHhGLh-6a4yOi8ujxpaYOixb6rgivU8t1GA1SmzAvz7hxTY_2jG7cbiLwLlXKsdsHF4zI2AJbp43ksc9KjbjT8XQFneKJF1cLhl0kjfUnWNP7FRGIgED5T0p1SeiCton9gzeYbc56esCGnkTJqPVannY-Ta4cDAPa1OBBCKwyumcrbsBSIVE95mwNQZbWmQ/file [following]\n",
      "--2022-12-10 19:43:19--  https://uc1871384bb044077736191a40a5.dl.dropboxusercontent.com/cd/0/inline2/ByYjErFdtUsAg2DNglmhJNXfpGmO1x6Dg5eRwx7hob9AcvML2hDBc4pvZTWhL-0SM59zuQqd05B4ofT1eLQwA_5TB8snvmqvxZJDLn0L-c_QDRefXtIlkun_vErn4Bosht2629ciVi1aYi2DGdlAlowQ4IJe6XUS7xIMGB4wTUjn71nDf-pajwDuzPgRANBjDk6O8m66MVuBXH0IbR-UWcO3S8KlYHm-erYOOTf9hwu-0G-HHhGLh-6a4yOi8ujxpaYOixb6rgivU8t1GA1SmzAvz7hxTY_2jG7cbiLwLlXKsdsHF4zI2AJbp43ksc9KjbjT8XQFneKJF1cLhl0kjfUnWNP7FRGIgED5T0p1SeiCton9gzeYbc56esCGnkTJqPVannY-Ta4cDAPa1OBBCKwyumcrbsBSIVE95mwNQZbWmQ/file\n",
      "Reusing existing connection to uc1871384bb044077736191a40a5.dl.dropboxusercontent.com:443.\n",
      "HTTP request sent, awaiting response... 200 OK\n",
      "Length: 6538 (6.4K) [application/octet-stream]\n",
      "Saving to: ‘results/hyp+vae/model_weights/hyp+vae_latent_2_lr_3e-05_b_1_the_best.index’\n",
      "\n",
      "results/hyp+vae/mod 100%[===================>]   6.38K  --.-KB/s    in 0s      \n",
      "\n",
      "2022-12-10 19:43:19 (3.04 GB/s) - ‘results/hyp+vae/model_weights/hyp+vae_latent_2_lr_3e-05_b_1_the_best.index’ saved [6538/6538]\n",
      "\n",
      "--2022-12-10 19:43:20--  https://www.dropbox.com/s/6xkn0af5a006d1x/Hyp%2BCNN_latent_2_lr_3e-05_b_1_the_best.data-00000-of-00001\n",
      "Resolving www.dropbox.com (www.dropbox.com)... 162.125.5.18\n",
      "Connecting to www.dropbox.com (www.dropbox.com)|162.125.5.18|:443... connected.\n",
      "HTTP request sent, awaiting response... 302 Found\n",
      "Location: /s/raw/6xkn0af5a006d1x/Hyp%2BCNN_latent_2_lr_3e-05_b_1_the_best.data-00000-of-00001 [following]\n",
      "--2022-12-10 19:43:20--  https://www.dropbox.com/s/raw/6xkn0af5a006d1x/Hyp%2BCNN_latent_2_lr_3e-05_b_1_the_best.data-00000-of-00001\n",
      "Reusing existing connection to www.dropbox.com:443.\n",
      "HTTP request sent, awaiting response... 302 Found\n",
      "Location: https://uc2fecaecc193ed55340b86ca2ff.dl.dropboxusercontent.com/cd/0/inline/ByZSEJMHr_s39YLF6tuqnQlxNoYv_U8-XxCU5PEff5IbLEMF80tHwKclqgnI9vf7JAJVcxn4wFClHbDcJncpQ7fV3aD4f54N1-qv_ECPYg4LpWgbiTBl0sPIp7fR9_3rBouZCNe8gJK6fXpn2ncqsPIbOARAmA6Ojh6kBfvE0FB9pQ/file# [following]\n",
      "--2022-12-10 19:43:21--  https://uc2fecaecc193ed55340b86ca2ff.dl.dropboxusercontent.com/cd/0/inline/ByZSEJMHr_s39YLF6tuqnQlxNoYv_U8-XxCU5PEff5IbLEMF80tHwKclqgnI9vf7JAJVcxn4wFClHbDcJncpQ7fV3aD4f54N1-qv_ECPYg4LpWgbiTBl0sPIp7fR9_3rBouZCNe8gJK6fXpn2ncqsPIbOARAmA6Ojh6kBfvE0FB9pQ/file\n",
      "Resolving uc2fecaecc193ed55340b86ca2ff.dl.dropboxusercontent.com (uc2fecaecc193ed55340b86ca2ff.dl.dropboxusercontent.com)... 162.125.5.15\n",
      "Connecting to uc2fecaecc193ed55340b86ca2ff.dl.dropboxusercontent.com (uc2fecaecc193ed55340b86ca2ff.dl.dropboxusercontent.com)|162.125.5.15|:443... connected.\n",
      "HTTP request sent, awaiting response... 302 Found\n",
      "Location: /cd/0/inline2/ByaI0bE35JrotfZthTrQgNhbqNHcK7LwfmvUf9sD23AuaCkgQ4tCS3ed14UwA3Ie-B-SORoR6KDWwyJc-PczoxgTBW9XVlWo15vPAmZlDpaUz6ZnC-3XJAvKqDOfcPjQbm27YP7fNnWZQ4-u6DnDJGJ0ZPTzTidRlFoi1I1N8kFn-GWwJnwVekNwWqOjEsdHpSO059Lq2Dl5nUvAbQqQyMIDj_9FidDCEEBFzWL3dHZWbWXZDfWUJFgBxn9gwfTlSHtu8tchw21a8UGthzYoiFIo4mUBgT758NAoaSiKnEcSc5E5yf1i17VAVvHPLWyH8Aeybf49wztzGc2fgRPKiatlu50aZ10nWmyG8e2zJRYXfDcYjk7_uwqSZTj8IRm-i1oPaU5ei5ifeRdl8nnRTFBg3-_F6Uxq7O_cPDxu2g5wsA/file [following]\n",
      "--2022-12-10 19:43:22--  https://uc2fecaecc193ed55340b86ca2ff.dl.dropboxusercontent.com/cd/0/inline2/ByaI0bE35JrotfZthTrQgNhbqNHcK7LwfmvUf9sD23AuaCkgQ4tCS3ed14UwA3Ie-B-SORoR6KDWwyJc-PczoxgTBW9XVlWo15vPAmZlDpaUz6ZnC-3XJAvKqDOfcPjQbm27YP7fNnWZQ4-u6DnDJGJ0ZPTzTidRlFoi1I1N8kFn-GWwJnwVekNwWqOjEsdHpSO059Lq2Dl5nUvAbQqQyMIDj_9FidDCEEBFzWL3dHZWbWXZDfWUJFgBxn9gwfTlSHtu8tchw21a8UGthzYoiFIo4mUBgT758NAoaSiKnEcSc5E5yf1i17VAVvHPLWyH8Aeybf49wztzGc2fgRPKiatlu50aZ10nWmyG8e2zJRYXfDcYjk7_uwqSZTj8IRm-i1oPaU5ei5ifeRdl8nnRTFBg3-_F6Uxq7O_cPDxu2g5wsA/file\n",
      "Reusing existing connection to uc2fecaecc193ed55340b86ca2ff.dl.dropboxusercontent.com:443.\n",
      "HTTP request sent, awaiting response... 200 OK\n",
      "Length: 70554136 (67M) [application/octet-stream]\n",
      "Saving to: ‘results/hyp+vae/model_weights/hyp+vae_latent_2_lr_3e-05_b_1_the_best.data-00000-of-00001’\n",
      "\n",
      "results/hyp+vae/mod 100%[===================>]  67.29M  22.6MB/s    in 3.0s    \n",
      "\n",
      "2022-12-10 19:43:25 (22.6 MB/s) - ‘results/hyp+vae/model_weights/hyp+vae_latent_2_lr_3e-05_b_1_the_best.data-00000-of-00001’ saved [70554136/70554136]\n",
      "\n"
     ]
    }
   ],
   "source": [
    "!wget -O results/hyp+vae/model_weights/hyp+vae_latent_2_lr_3e-05_b_1_the_best.index https://www.dropbox.com/s/3gg0h57boq5uhf9/Hyp%2BCNN_latent_2_lr_3e-05_b_1_the_best.index\n",
    "!wget -O results/hyp+vae/model_weights/hyp+vae_latent_2_lr_3e-05_b_1_the_best.data-00000-of-00001 https://www.dropbox.com/s/6xkn0af5a006d1x/Hyp%2BCNN_latent_2_lr_3e-05_b_1_the_best.data-00000-of-00001"
   ]
  },
  {
   "cell_type": "code",
   "execution_count": null,
   "metadata": {},
   "outputs": [],
   "source": []
  }
 ],
 "metadata": {
  "kernelspec": {
   "display_name": "Python 3",
   "language": "python",
   "name": "python3"
  },
  "language_info": {
   "codemirror_mode": {
    "name": "ipython",
    "version": 3
   },
   "file_extension": ".py",
   "mimetype": "text/x-python",
   "name": "python",
   "nbconvert_exporter": "python",
   "pygments_lexer": "ipython3",
   "version": "3.9.7"
  },
  "orig_nbformat": 4,
  "vscode": {
   "interpreter": {
    "hash": "d4152bdc127b0e70b8c6f6932f55d8559712cdef36760adb9c438874d4d634b0"
   }
  }
 },
 "nbformat": 4,
 "nbformat_minor": 2
}
