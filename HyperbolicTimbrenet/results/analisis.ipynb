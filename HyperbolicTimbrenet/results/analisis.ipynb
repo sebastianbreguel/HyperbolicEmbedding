{
 "cells": [
  {
   "cell_type": "code",
   "execution_count": 17,
   "metadata": {},
   "outputs": [],
   "source": [
    "import matplotlib.pyplot as plt\n",
    "import plotly.express as px\n",
    "import plotly.io as pio\n",
    "import plotly.graph_objects as go\n",
    "\n",
    "pio.renderers.default = \"browser\"\n",
    "# * this will open a new tab in your browser with the plot"
   ]
  },
  {
   "cell_type": "code",
   "execution_count": 1,
   "metadata": {},
   "outputs": [],
   "source": [
    "def add_loss(option):\n",
    "    path = option + \"/loss.txt\"\n",
    "\n",
    "    with open(path, \"r\") as f:\n",
    "        lines = f.readlines()\n",
    "\n",
    "    loss = []\n",
    "    for line in lines:\n",
    "        line.strip()\n",
    "        if not \"Model saved:\" in line and not line == \"\\n\":\n",
    "            options = line.split(\",\")\n",
    "            test = options[1].split(\":\")[1]\n",
    "\n",
    "            loss.append(-float(test))\n",
    "    return loss"
   ]
  },
  {
   "cell_type": "code",
   "execution_count": 2,
   "metadata": {},
   "outputs": [
    {
     "name": "stdout",
     "output_type": "stream",
     "text": [
      "baseline\n",
      "baseline_hyp\n",
      "breguel_model\n",
      "mircea_model\n",
      "hyp+vae\n"
     ]
    }
   ],
   "source": [
    "models = [\"baseline\", \"baseline_hyp\", \"breguel_model\", \"mircea_model\", \"hyp+vae\"]\n",
    "losses = []\n",
    "for model in models:\n",
    "    print(model)\n",
    "    losses.append([add_loss(model), model])\n",
    "epochs = [i for i in range(1, 501)]"
   ]
  },
  {
   "cell_type": "code",
   "execution_count": 19,
   "metadata": {},
   "outputs": [],
   "source": [
    "fig = go.Figure()\n",
    "for loss in losses:\n",
    "    fig.add_trace(go.Scatter(x=epochs, y=loss[0], name=loss[1]))\n",
    "\n",
    "fig.update_layout(\n",
    "    title=\"Loss of the models\",\n",
    "    xaxis_title=\"Epochs\",\n",
    "    yaxis_title=\"Loss\",\n",
    ")\n",
    "\n",
    "fig.show()"
   ]
  },
  {
   "cell_type": "code",
   "execution_count": null,
   "metadata": {},
   "outputs": [],
   "source": []
  }
 ],
 "metadata": {
  "kernelspec": {
   "display_name": "Python 3",
   "language": "python",
   "name": "python3"
  },
  "language_info": {
   "codemirror_mode": {
    "name": "ipython",
    "version": 3
   },
   "file_extension": ".py",
   "mimetype": "text/x-python",
   "name": "python",
   "nbconvert_exporter": "python",
   "pygments_lexer": "ipython3",
   "version": "3.9.7"
  },
  "orig_nbformat": 4,
  "vscode": {
   "interpreter": {
    "hash": "d4152bdc127b0e70b8c6f6932f55d8559712cdef36760adb9c438874d4d634b0"
   }
  }
 },
 "nbformat": 4,
 "nbformat_minor": 2
}
