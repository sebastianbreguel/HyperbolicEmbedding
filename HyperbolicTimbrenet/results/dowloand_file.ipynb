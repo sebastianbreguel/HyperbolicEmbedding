{
 "cells": [
  {
   "attachments": {},
   "cell_type": "markdown",
   "metadata": {},
   "source": [
    "# Descargar"
   ]
  },
  {
   "attachments": {},
   "cell_type": "markdown",
   "metadata": {},
   "source": [
    "## Modelo baseline"
   ]
  },
  {
   "cell_type": "code",
   "execution_count": 1,
   "metadata": {},
   "outputs": [
    {
     "name": "stdout",
     "output_type": "stream",
     "text": [
      "results/baseline/model_weights/baseline_latent_2_lr_3e-05_b_1_the_best.index: No such file or directory\n",
      "results/baseline/model_weights/baseline_latent_2_lr_3e-05_b_1_the_best.data-00000-of-00001: No such file or directory\n"
     ]
    }
   ],
   "source": [
    "!wget -O baseline/model_weights/baseline_latent_2_lr_3e-05_b_1_the_best.index https://www.dropbox.com/s/x6n4c8k0eq9t68h/baseline_latent_2_lr_3e-05_b_1_the_best.index\n",
    "!wget -O baseline/model_weights/baseline_latent_2_lr_3e-05_b_1_the_best.data-00000-of-00001 https://www.dropbox.com/s/mgldawvoqv6tfmb/baseline_latent_2_lr_3e-05_b_1_the_best.data-00000-of-00001"
   ]
  },
  {
   "attachments": {},
   "cell_type": "markdown",
   "metadata": {},
   "source": [
    "## Modelo baseline Hyperbolico"
   ]
  },
  {
   "cell_type": "code",
   "execution_count": null,
   "metadata": {},
   "outputs": [],
   "source": [
    "\n",
    "\n",
    "!wget -O baseline_hyp/model_weights/baseline_hyperbolic_latent_2_lr_3e-05_b_1_the_best.index https://www.dropbox.com/s/jncdm9b58uwqo93/baseline_hyperbolic_latent_2_lr_3e-05_b_1_the_best.index\n",
    "!wget -O baseline_hyp/model_weights/baseline_hyperbolic_latent_2_lr_3e-05_b_1_the_best.data-00000-of-00001 https://www.dropbox.com/s/yjg1l77ymndkwpg/baseline_hyperbolic_latent_2_lr_3e-05_b_1_the_best.data-00000-of-00001\n"
   ]
  },
  {
   "attachments": {},
   "cell_type": "markdown",
   "metadata": {},
   "source": [
    "##  Breguel model\n"
   ]
  },
  {
   "cell_type": "code",
   "execution_count": null,
   "metadata": {},
   "outputs": [],
   "source": [
    "!wget -O breguel_model/model_weights/breguel_model_latent_2_lr_3e-05_b_1_the_best.index https://www.dropbox.com/s/vdxggzjyl76niiv/breguel_model_latent_2_lr_3e-05_b_1_the_best.index\n",
    "!wget -O breguel_model/model_weights/breguel_model_latent_2_lr_3e-05_b_1_the_best.data-00000-of-00001 https://www.dropbox.com/s/wpnumej64mc290d/breguel_model_latent_2_lr_3e-05_b_1_the_best.data-00000-of-00001"
   ]
  },
  {
   "attachments": {},
   "cell_type": "markdown",
   "metadata": {},
   "source": [
    "## Mircea model"
   ]
  },
  {
   "cell_type": "code",
   "execution_count": null,
   "metadata": {},
   "outputs": [],
   "source": [
    "!wget -O mircea_model/model_weights/mircea_model_latent_2_lr_3e-05_b_1_the_best.index https://www.dropbox.com/s/83fuwtawrcc3br6/mircea_model_latent_2_lr_3e-05_b_1_the_best.index\n",
    "!wget -O mircea_model/model_weights/mircea_model_latent_2_lr_3e-05_b_1_the_best.data-00000-of-00001 https://www.dropbox.com/s/p2kaizm4pwyqkr6/mircea_model_latent_2_lr_3e-05_b_1_the_best.data-00000-of-00001"
   ]
  },
  {
   "attachments": {},
   "cell_type": "markdown",
   "metadata": {},
   "source": [
    "## timbreNet + Embedding hyperbolico"
   ]
  },
  {
   "cell_type": "code",
   "execution_count": null,
   "metadata": {},
   "outputs": [],
   "source": [
    "!wget -O hyp+vae/model_weights/hyp+vae_latent_2_lr_3e-05_b_1_the_best.index https://www.dropbox.com/s/3gg0h57boq5uhf9/Hyp%2BCNN_latent_2_lr_3e-05_b_1_the_best.index\n",
    "!wget -O hyp+vae/model_weights/hyp+vae_latent_2_lr_3e-05_b_1_the_best.data-00000-of-00001 https://www.dropbox.com/s/6xkn0af5a006d1x/Hyp%2BCNN_latent_2_lr_3e-05_b_1_the_best.data-00000-of-00001"
   ]
  }
 ],
 "metadata": {
  "kernelspec": {
   "display_name": "Python 3",
   "language": "python",
   "name": "python3"
  },
  "language_info": {
   "codemirror_mode": {
    "name": "ipython",
    "version": 3
   },
   "file_extension": ".py",
   "mimetype": "text/x-python",
   "name": "python",
   "nbconvert_exporter": "python",
   "pygments_lexer": "ipython3",
   "version": "3.9.7"
  },
  "orig_nbformat": 4,
  "vscode": {
   "interpreter": {
    "hash": "d4152bdc127b0e70b8c6f6932f55d8559712cdef36760adb9c438874d4d634b0"
   }
  }
 },
 "nbformat": 4,
 "nbformat_minor": 2
}
